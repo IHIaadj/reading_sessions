{
  "cells": [
    {
      "cell_type": "markdown",
      "metadata": {
        "colab_type": "text",
        "id": "view-in-github"
      },
      "source": [
        "<a href=\"https://colab.research.google.com/github/jeshraghian/snntorch/blob/master/examples/tutorial_5_FCN.ipynb\" target=\"_parent\"><img src=\"https://colab.research.google.com/assets/colab-badge.svg\" alt=\"Open In Colab\"/></a>"
      ]
    },
    {
      "cell_type": "markdown",
      "metadata": {
        "collapsed": false,
        "id": "uSGZ6cdmpknm",
        "pycharm": {
          "name": "#%% md\n"
        }
      },
      "source": [
        "[<img src='https://github.com/jeshraghian/snntorch/blob/master/docs/_static/img/snntorch_alpha_w.png?raw=true' width=\"400\">](https://github.com/jeshraghian/snntorch/)\n",
        "\n",
        "\n",
        "# snnTorch - Training Spiking Convolutional Neural Networks with snnTorch\n",
        "## Tutorial 5\n",
        "### By Jason K. Eshraghian (www.ncg.ucsc.edu)\n",
        "\n",
        "<a href=\"https://colab.research.google.com/github/jeshraghian/snntorch/blob/master/examples/tutorial_6_CNN.ipynb\">\n",
        "  <img src=\"https://colab.research.google.com/assets/colab-badge.svg\" alt=\"Open In Colab\"/>\n",
        "</a>\n",
        "\n",
        "\n",
        "[<img src='https://github.com/jeshraghian/snntorch/blob/master/docs/_static/img/GitHub-Mark-Light-120px-plus.png?raw=true' width=\"28\">](https://github.com/jeshraghian/snntorch/) [<img src='https://github.com/jeshraghian/snntorch/blob/master/docs/_static/img/GitHub_Logo_White.png?raw=true' width=\"80\">](https://github.com/jeshraghian/snntorch/)"
      ]
    },
    {
      "cell_type": "markdown",
      "metadata": {
        "id": "rugeYYiqsrlc"
      },
      "source": [
        "The snnTorch tutorial series is based on the following paper. If you find these resources or code useful in your work, please consider citing the following source:\n",
        "\n",
        "> <cite> [Jason K. Eshraghian, Max Ward, Emre Neftci, Xinxin Wang, Gregor Lenz, Girish Dwivedi, Mohammed Bennamoun, Doo Seok Jeong, and Wei D. Lu. \"Training Spiking Neural Networks Using Lessons From Deep Learning\". arXiv preprint arXiv:2109.12894, September 2021.](https://arxiv.org/abs/2109.12894) </cite>\n",
        "\n"
      ]
    },
    {
      "cell_type": "markdown",
      "metadata": {
        "id": "Ymi3sqJg28OQ"
      },
      "source": [
        "# Introduction\n",
        "In this tutorial, you will:\n",
        "* Learn how spiking neurons are implemented as a recurrent network\n",
        "* Understand backpropagation through time, and the associated challenges in SNNs such as the non-differentiability of spikes\n",
        "* Train a fully-connected network on the static MNIST dataset\n",
        "\n",
        "<!-- * Implement various backprop strategies:\n",
        "  * Backpropagation Through Time\n",
        "  * Truncated-Backpropagation Through Time\n",
        "  * Real-Time Recurrent Learning -->\n",
        "\n",
        ">Part of this tutorial was inspired by Friedemann Zenke's extensive work on SNNs. Check out his repo on surrogate gradients [here](https://github.com/fzenke/spytorch), and a favourite paper of mine: E. O. Neftci, H. Mostafa, F. Zenke, [Surrogate Gradient Learning in Spiking Neural Networks: Bringing the Power of Gradient-based optimization to spiking neural networks.](https://ieeexplore.ieee.org/document/8891809) IEEE Signal Processing Magazine 36, 51–63.\n",
        "\n",
        "At the end of the tutorial, a basic supervised learning algorithm will be implemented. We will use the original static MNIST dataset and train a multi-layer fully-connected spiking neural network using gradient descent to perform image classification. \n",
        "\n",
        "If running in Google Colab:\n",
        "* You may connect to GPU by checking `Runtime` > `Change runtime type` > `Hardware accelerator: GPU`\n",
        "* Next, install the latest PyPi distribution of snnTorch by clicking into the following cell and pressing `Shift+Enter`."
      ]
    },
    {
      "cell_type": "code",
      "execution_count": 1,
      "metadata": {
        "id": "5tn_wUlopkon",
        "pycharm": {
          "name": "#%%\n"
        }
      },
      "outputs": [
        {
          "name": "stdout",
          "output_type": "stream",
          "text": [
            "Defaulting to user installation because normal site-packages is not writeable\n",
            "Requirement already satisfied: snntorch in c:\\users\\mon pc\\appdata\\roaming\\python\\python310\\site-packages (0.5.3)\n",
            "Requirement already satisfied: pandas in c:\\users\\mon pc\\appdata\\roaming\\python\\python310\\site-packages (from snntorch) (1.4.2)\n",
            "Requirement already satisfied: matplotlib in c:\\users\\mon pc\\appdata\\roaming\\python\\python310\\site-packages (from snntorch) (3.5.1)\n",
            "Requirement already satisfied: torch>=1.1.0 in c:\\users\\mon pc\\appdata\\roaming\\python\\python310\\site-packages (from snntorch) (1.11.0+cu113)\n",
            "Requirement already satisfied: numpy>=1.17 in c:\\users\\mon pc\\appdata\\roaming\\python\\python310\\site-packages (from snntorch) (1.22.3)\n",
            "Requirement already satisfied: typing-extensions in c:\\users\\mon pc\\appdata\\roaming\\python\\python310\\site-packages (from torch>=1.1.0->snntorch) (4.2.0)\n",
            "Requirement already satisfied: pyparsing>=2.2.1 in c:\\users\\mon pc\\appdata\\roaming\\python\\python310\\site-packages (from matplotlib->snntorch) (3.0.8)\n",
            "Requirement already satisfied: packaging>=20.0 in c:\\users\\mon pc\\appdata\\roaming\\python\\python310\\site-packages (from matplotlib->snntorch) (21.3)\n",
            "Requirement already satisfied: fonttools>=4.22.0 in c:\\users\\mon pc\\appdata\\roaming\\python\\python310\\site-packages (from matplotlib->snntorch) (4.33.0)\n",
            "Requirement already satisfied: python-dateutil>=2.7 in c:\\users\\mon pc\\appdata\\roaming\\python\\python310\\site-packages (from matplotlib->snntorch) (2.8.2)\n",
            "Requirement already satisfied: kiwisolver>=1.0.1 in c:\\users\\mon pc\\appdata\\roaming\\python\\python310\\site-packages (from matplotlib->snntorch) (1.4.2)\n",
            "Requirement already satisfied: cycler>=0.10 in c:\\users\\mon pc\\appdata\\roaming\\python\\python310\\site-packages (from matplotlib->snntorch) (0.11.0)\n",
            "Requirement already satisfied: pillow>=6.2.0 in c:\\users\\mon pc\\appdata\\roaming\\python\\python310\\site-packages (from matplotlib->snntorch) (9.1.0)\n",
            "Requirement already satisfied: pytz>=2020.1 in c:\\users\\mon pc\\appdata\\roaming\\python\\python310\\site-packages (from pandas->snntorch) (2022.1)\n",
            "Requirement already satisfied: six>=1.5 in c:\\users\\mon pc\\appdata\\roaming\\python\\python310\\site-packages (from python-dateutil>=2.7->matplotlib->snntorch) (1.16.0)\n"
          ]
        },
        {
          "name": "stderr",
          "output_type": "stream",
          "text": [
            "WARNING: There was an error checking the latest version of pip.\n"
          ]
        }
      ],
      "source": [
        "!pip install snntorch"
      ]
    },
    {
      "cell_type": "code",
      "execution_count": 2,
      "metadata": {
        "id": "QXZ6Tuqc9Q-l"
      },
      "outputs": [],
      "source": [
        "# imports\n",
        "import snntorch as snn\n",
        "from snntorch import spikeplot as splt\n",
        "from snntorch import spikegen\n",
        "from snntorch import surrogate\n",
        "import torch\n",
        "import torch.nn as nn\n",
        "from torch.utils.data import DataLoader\n",
        "from torchvision import datasets, transforms\n",
        "\n",
        "import matplotlib.pyplot as plt\n",
        "import numpy as np\n",
        "import itertools"
      ]
    },
    {
      "cell_type": "markdown",
      "metadata": {
        "id": "gt2xMbLY9dVE"
      },
      "source": [
        "# 1. A Recurrent Representation of SNNs"
      ]
    },
    {
      "cell_type": "markdown",
      "metadata": {
        "id": "v7haBG7nA_TC"
      },
      "source": [
        "In Tutorial 3, we derived a recursive representation of a leaky integrate-and-fire (LIF) neuron: \n",
        "\n",
        "$$U[t+1] = \\underbrace{\\beta U[t]}_\\text{decay} + \\underbrace{WX[t+1]}_\\text{input} - \\underbrace{R[t]}_\\text{reset} \\tag{1}$$\n",
        "\n",
        "where the input synaptic current is interpreted as $I_{\\rm in}[t] = WX[t]$, and $X[t]$ may be some arbitrary input of spikes, a step/time-varying voltage, or unweighted step/time-varying current. Spiking is represented with the following equation, where if the membrane potential exceeds the threshold, a spike is emitted:\n",
        "\n",
        "$$S[t] = \\begin{cases} 1, &\\text{if}~U[t] > U_{\\rm thr} \\\\\n",
        "0, &\\text{otherwise}\\end{cases} \\tag{2}$$\n",
        "\n",
        "This formulation of a spiking neuron in a discrete, recursive form is almost perfectly poised to take advantage of the developments in training recurrent neural networks (RNNs) and sequence-based models. This is illustrated using an *implicit* recurrent connection for the decay of the membrane potential, and is distinguished from *explicit* recurrence where the output spike $S_{\\rm out}$ is fed back to the input. In the figure below, the connection weighted by $-U_{\\rm thr}$ represents the reset mechanism $R[t]$.\n",
        "\n",
        "\n",
        "<center>\n",
        "<img src='https://github.com/jeshraghian/snntorch/blob/master/docs/_static/img/examples/tutorial5/unrolled_2.png?raw=true' width=\"800\">\n",
        "</center>\n",
        "\n",
        "The benefit of an unrolled graph is that it provides an explicit description of how computations are performed. The process of unfolding illustrates the flow of information forward in time (from left to right) to compute outputs and losses, and backward in time to compute gradients. The more time steps that are simulated, the deeper the graph becomes. \n",
        "\n",
        "Conventional RNNs treat $\\beta$ as a learnable parameter. This is also possible for SNNs, though by default, they are treated as hyperparameters. This replaces the vanishing and exploding gradient problems with a hyperparameter search. A future tutorial will describe how to make $\\beta$ a learnable parameter."
      ]
    },
    {
      "cell_type": "markdown",
      "metadata": {
        "id": "Wgzf83HE2BeB"
      },
      "source": [
        "# 2. The Non-Differentiability of Spikes\n",
        "## 2.1 Training Using the Backprop Algorithm\n",
        "\n",
        "An alternative way to represent the relationship between $S$ and $U$ in $(2)$ is:\n",
        "\n",
        "$$S[t] = \\Theta(U[t] - U_{\\rm thr}) \\tag{3}$$ \n",
        "\n",
        "where $\\Theta(\\cdot)$ is the Heaviside step function:\n",
        "\n",
        "<center>\n",
        "<img src='https://github.com/jeshraghian/snntorch/blob/master/docs/_static/img/examples/tutorial3/3_2_spike_descrip.png?raw=true' width=\"600\">\n",
        "</center>\n",
        "\n",
        "Training a network in this form poses some serious challenges. Consider a single, isolated time step of the computational graph from the previous figure titled *\"Recurrent representation of spiking neurons\"*, as shown in the *forward pass* below:\n",
        "\n",
        "<center>\n",
        "<img src='https://github.com/jeshraghian/snntorch/blob/master/docs/_static/img/examples/tutorial5/non-diff.png?raw=true' width=\"400\">\n",
        "</center>\n",
        "\n",
        "The goal is to train the network using the gradient of the loss with respect to the weights, such that the weights are updated to minimize the loss. The backpropagation algorithm achieves this using the chain rule:\n",
        "\n",
        "$$\\frac{\\partial \\mathcal{L}}{\\partial W} = \n",
        "\\frac{\\partial \\mathcal{L}}{\\partial S}\n",
        "\\underbrace{\\frac{\\partial S}{\\partial U}}_{\\{0, \\infty\\}}\n",
        "\\frac{\\partial U}{\\partial I}\\\n",
        "\\frac{\\partial I}{\\partial W}\\ \\tag{4}$$\n",
        "\n",
        "From $(1)$, $\\partial I/\\partial W=X$, and $\\partial U/\\partial I=1$. While we have not yet defined a loss function, we can assume $\\partial \\mathcal{L}/\\partial S$ has an analytical solution, in a similar form to the cross-entropy or mean-square error loss (more on that shortly). \n",
        "\n",
        "However, the term that we are going to grapple with is $\\partial S/\\partial U$. The derivative of the Heaviside step function from $(3)$ is the Dirac Delta function, which evaluates to 0 everywhere, except at the threshold $U_{\\rm thr} = \\theta$, where it tends to infinity. This means the gradient will almost always be nulled to zero (or saturated if $U$ sits precisely at the threshold), and no learning can take place. This is known as the **dead neuron problem**. "
      ]
    },
    {
      "cell_type": "markdown",
      "metadata": {
        "id": "mVrM7nLOMvgx"
      },
      "source": [
        "## 2.2 Overcoming the Dead Neuron Problem\n",
        "\n",
        "The most common way to address the dead neuron problem is to keep the Heaviside function as it is during the forward pass, but swap the derivative term $\\partial S/\\partial U$ for something that does not kill the learning process during the backward pass, which will be denoted $\\partial \\tilde{S}/\\partial U$. This might sound odd, but it turns out that neural networks are quite robust to such approximations. This is commonly known as the *surrogate gradient* approach.\n",
        "\n",
        "A variety of options exist to using surrogate gradients, and we will dive into more detail on these methods in [Tutorial 6](https://snntorch.readthedocs.io/en/latest/tutorials/index.html). For now, a simple approximation is applied where $\\partial \\tilde{S}/\\partial U$ is set to $S$ itself.\n",
        "\n",
        "If $S$ does not spike, then the spike-gradient term is $0$. If $S$ spikes, then the gradient term is $1$. This simply looks like the gradient of a ReLU function shifted to the threshold. This method is known as the *Spike-Operator* approach and is described in more detail in the following paper:\n",
        "\n",
        "> <cite> Jason K. Eshraghian, Max Ward, Xinxin Wang, Gregor Lenz, Girish Dwivedi, Mohammed Bennamoun, Doo Seok Jeong, and Wei D. Lu. \"Training Spiking Neural Networks Using Lessons From Deep Learning\". arXiv, 2021. </cite>\n",
        "\n",
        "Inutitively, *Spike Operator* splits the gradient calculation into two chunks: one where the neuron is spiking, and one where it is silent:\n",
        "* **Silent:** If the neuron is silent, then the spike response can be obtained by scaling the membrane by 0: $S = U \\times 0 \\implies \\partial \\tilde{S}/\\partial U = 0$. \n",
        "* **Spiking:** If the neuron is spiking, then assume $U \\approx U_{\\rm thr}$, normalize $U_{\\rm thr}=1$, and the spike response can be obtained by scaling the membrane by 1: $S = U \\times 1 \\implies \\partial \\tilde{S}/\\partial U = 1$, where the tilde above $\\tilde{S}$ implies an approximation.\n",
        "\n",
        "This is summarized as follows:\n",
        "\n",
        "$$\\frac{\\partial \\tilde{S}}{\\partial U} \\leftarrow S = \\begin{cases} 1, &\\text{if}~U> U_{\\rm thr} \\\\\n",
        "0, &\\text{otherwise}\\end{cases} $$\n",
        "\n",
        "where the left arrow denotes substitution. \n",
        "\n",
        "The same neuron model described in  $(1)-(2)$ (a.k.a., `snn.Leaky` neuron from Tutorial 3) is implemented in PyTorch below. Don't worry if you don't understand this. This will be condensed into one line of code using snnTorch in a moment:"
      ]
    },
    {
      "cell_type": "code",
      "execution_count": 3,
      "metadata": {
        "id": "mfJUm-6T8aG2"
      },
      "outputs": [],
      "source": [
        "# Leaky neuron model, overriding the backward pass with a custom function\n",
        "class LeakySurrogate(nn.Module):\n",
        "  def __init__(self, beta, threshold=1.0):\n",
        "      super(LeakySurrogate, self).__init__()\n",
        "\n",
        "      # initialize decay rate beta and threshold\n",
        "      self.beta = beta\n",
        "      self.threshold = threshold\n",
        "      self.spike_op = self.SpikeOperator.apply\n",
        "  \n",
        "  # the forward function is called each time we call Leaky\n",
        "  def forward(self, input_, mem):\n",
        "    spk = self.spike_op((mem-self.threshold))  # call the Heaviside function\n",
        "    reset = (spk * self.threshold).detach() # removes spike_op gradient from reset\n",
        "    mem = self.beta * mem + input_ - reset # Eq (1)\n",
        "    return spk, mem\n",
        "\n",
        "  # Forward pass: Heaviside function\n",
        "  # Backward pass: Override Dirac Delta with the Spike itself\n",
        "  @staticmethod\n",
        "  class SpikeOperator(torch.autograd.Function):\n",
        "      @staticmethod\n",
        "      def forward(ctx, mem):\n",
        "          spk = (mem > 0).float() # Heaviside on the forward pass: Eq(2)\n",
        "          ctx.save_for_backward(spk)  # store the spike for use in the backward pass\n",
        "          return spk\n",
        "\n",
        "      @staticmethod\n",
        "      def backward(ctx, grad_output):\n",
        "          (spk,) = ctx.saved_tensors  # retrieve the spike \n",
        "          grad = grad_output * spk # scale the gradient by the spike: 1/0\n",
        "          return grad"
      ]
    },
    {
      "cell_type": "markdown",
      "metadata": {
        "id": "1zkc1Mmp97OX"
      },
      "source": [
        "Note that the reset mechanism is detached from the computational graph, as the surrogate gradient should only be applied to $\\partial S/\\partial U$, and not $\\partial R/\\partial U$.\n",
        "\n",
        "The above neuron is instantiated using:"
      ]
    },
    {
      "cell_type": "code",
      "execution_count": 4,
      "metadata": {
        "id": "EV3lU6soOnW6"
      },
      "outputs": [],
      "source": [
        "lif1 = LeakySurrogate(beta=0.9)"
      ]
    },
    {
      "cell_type": "markdown",
      "metadata": {
        "id": "StklvL_gPns1"
      },
      "source": [
        "This neuron can be simulated using a for-loop, just as in previous tutorials, while PyTorch's automatic differentation (autodiff) mechanism keeps track of the gradient in the background.\n",
        "\n",
        "Alternatively, the same thing can be accomplished by calling the `snn.Leaky` neuron. \n",
        "In fact, every time you call any neuron model from snnTorch, the *Spike Operator* surrogate gradient is applied to it by default:"
      ]
    },
    {
      "cell_type": "code",
      "execution_count": 5,
      "metadata": {
        "id": "8Wa7N31mP9Va"
      },
      "outputs": [],
      "source": [
        "lif1 = snn.Leaky(beta=0.9)"
      ]
    },
    {
      "cell_type": "markdown",
      "metadata": {
        "id": "9EF70Xi1RX6w"
      },
      "source": [
        "If you would like to explore how this neuron behaves, then refer to [Tutorial 3](https://snntorch.readthedocs.io/en/latest/tutorials/index.html)."
      ]
    },
    {
      "cell_type": "markdown",
      "metadata": {
        "id": "cxl1UYSCRzzl"
      },
      "source": [
        "#3. Backprop Through Time\n",
        "Equation $(4)$ only calculates the gradient for one single time step (referred to as the *immediate influence* in the figure below), but the backpropagation through time (BPTT) algorithm calculates the gradient from the loss to *all* descendants and sums them together. \n",
        "\n",
        "The weight $W$ is applied at every time step, and so imagine a loss is also calculated at every time step. The influence of the weight on present and historical losses must be summed together to define the global gradient:\n",
        "\n",
        "$$\\frac{\\partial \\mathcal{L}}{\\partial W}=\\sum_t \\frac{\\partial\\mathcal{L}[t]}{\\partial W} = \n",
        "\\sum_t \\sum_{s\\leq t} \\frac{\\partial\\mathcal{L}[t]}{\\partial W[s]}\\frac{\\partial W[s]}{\\partial W} \\tag{5} $$\n",
        "\n",
        "The point of $(5)$ is to ensure causality: by constraining $s\\leq t$, we only account for the contribution of immediate and prior influences of $W$ on the loss. A recurrent system constrains the weight to be shared across all steps: $W[0]=W[1] =~... ~ = W$. Therefore, a change in $W[s]$ will have the same effect on all $W$, which implies that $\\partial W[s]/\\partial W=1$:\n",
        "\n",
        "$$\\frac{\\partial \\mathcal{L}}{\\partial W}=\n",
        "\\sum_t \\sum_{s\\leq t} \\frac{\\partial\\mathcal{L}[t]}{\\partial W[s]} \\tag{6} $$\n",
        "\n",
        "As an example, isolate the prior influence due to $s = t-1$ *only*; this means the backward pass must track back in time by one step. The influence of $W[t-1]$ on the loss can be written as:\n",
        "\n",
        "$$\\frac{\\partial \\mathcal{L}[t]}{\\partial W[t-1]} = \n",
        "\\frac{\\partial \\mathcal{L}[t]}{\\partial S[t]}\n",
        "\\underbrace{\\frac{\\partial \\tilde{S}[t]}{\\partial U[t]}}_{S[t]}\n",
        "\\underbrace{\\frac{\\partial U[t]}{\\partial U[t-1]}}_\\beta\n",
        "\\underbrace{\\frac{\\partial U[t-1]}{\\partial I[t-1]}}_1\n",
        "\\underbrace{\\frac{\\partial I[t-1]}{\\partial W[t-1]}}_{X[t-1]} \\tag{7}$$\n",
        "\n",
        "We have already dealt with all of these terms from $(4)$, except for $\\partial U[t]/\\partial U[t-1]$. From $(1)$, this temporal derivative term simply evaluates to $\\beta$. So if we really wanted to, we now know enough to painstakingly calculate the derivative of every weight at every time step by hand, and it'd look something like this for a single neuron:\n",
        "\n",
        "<center>\n",
        "<img src='https://github.com/jeshraghian/snntorch/blob/master/docs/_static/img/examples/tutorial5/bptt.png?raw=true' width=\"600\">\n",
        "</center>\n",
        "\n",
        "But thankfully, PyTorch's autodiff takes care of that in the background for us.  "
      ]
    },
    {
      "cell_type": "markdown",
      "metadata": {
        "id": "c_42-CbsZ1FM"
      },
      "source": [
        "# 4. Setting up the Loss / Output Decoding\n",
        "In a conventional, non-spiking neural network, a supervised, multi-class classification problem takes the neuron with the highest activation and treats that as the predicted class. \n",
        "\n",
        "In a spiking neural net, there are several options to interpreting the output spikes. The most common approaches are:\n",
        "* **Rate coding:** Take the neuron with the highest firing rate (or spike count) as the predicted class\n",
        "* **Latency coding:** Take the neuron that fires *first* as the predicted class\n",
        "\n",
        "This might feel familiar to [Tutorial 1 on neural encoding](https://snntorch.readthedocs.io/en/latest/tutorials/index.html). The difference is that, here, we are interpreting (decoding) the output spikes, rather than encoding/converting raw input data into spikes.\n",
        "\n",
        "Let's focus on a rate code. When input data is passed to the network, we want the correct neuron class to emit the most spikes over the course of the simulation run. This then corresponds to the highest average firing frequency. One way to achieve this is to increase the membrane potential of the correct class to $U>U_{\\rm thr}$, and that of incorrect classes to $U<U_{\\rm thr}$. Applying the target to $U$ serves as a proxy for modulating spiking behavior from $S$.\n",
        "\n",
        "This can be implemented by taking the softmax of the membrane potential for output neurons, where $C$ is the number of output classes:\n",
        "\n",
        "$$p_i[t] = \\frac{e^{U_i[t]}}{\\sum_{j=0}^{C}e^{U_j[t]}} \\tag{8}$$\n",
        "\n",
        "The cross-entropy between $p_i$ and the target $y_i \\in \\{0,1\\}^C$, which is a one-hot target vector, is obtained using:\n",
        "\n",
        "$$\\mathcal{L}_{CE}[t] = \\sum_{i=0}^Cy_i{\\rm log}(p_i[t]) \\tag{9}$$\n",
        "\n",
        "The practical effect is that the membrane potential of the correct class is encouraged to increase while those of incorrect classes are reduced. In effect, this means the correct class is encouraged to fire at all time steps, while incorrect classes are suppressed at all steps. This may not be the most efficient implementation of an SNN, but it is among the simplest.\n",
        "\n",
        "This target is applied at every time step of the simulation, thus also generating a loss at every step. These losses are then summed together at the end of the simulation:\n",
        "\n",
        "$$\\mathcal{L}_{CE} = \\sum_t\\mathcal{L}_{CE}[t] \\tag{10}$$\n",
        "\n",
        "This is just one of many possible ways to apply a loss function to a spiking neural network. A variety of approaches are available to use in snnTorch (in the module `snn.functional`), and will be the subject of a future tutorial.\n",
        "\n",
        "With all of the background theory having been taken care of, let’s finally dive into\n",
        "training a fully-connected spiking neural net."
      ]
    },
    {
      "cell_type": "markdown",
      "metadata": {
        "id": "zqJdfllYbc16"
      },
      "source": [
        "# 5. Setting up the Static MNIST Dataset"
      ]
    },
    {
      "cell_type": "code",
      "execution_count": 6,
      "metadata": {
        "id": "lI0GbgLgpkos",
        "pycharm": {
          "name": "#%%\n"
        }
      },
      "outputs": [],
      "source": [
        "# dataloader arguments\n",
        "batch_size = 128\n",
        "data_path='/data/mnist'\n",
        "\n",
        "dtype = torch.float\n",
        "device = torch.device(\"cuda\") if torch.cuda.is_available() else torch.device(\"cpu\")"
      ]
    },
    {
      "cell_type": "code",
      "execution_count": 7,
      "metadata": {
        "id": "2fhRixcspkot",
        "pycharm": {
          "name": "#%%\n"
        }
      },
      "outputs": [],
      "source": [
        "# Define a transform\n",
        "transform = transforms.Compose([\n",
        "            transforms.Resize((28, 28)),\n",
        "            transforms.Grayscale(),\n",
        "            transforms.ToTensor(),\n",
        "            transforms.Normalize((0,), (1,))])\n",
        "\n",
        "mnist_train = datasets.MNIST(data_path, train=True, download=True, transform=transform)\n",
        "mnist_test = datasets.MNIST(data_path, train=False, download=True, transform=transform)"
      ]
    },
    {
      "cell_type": "markdown",
      "metadata": {
        "id": "RAM_dP887uTq"
      },
      "source": [
        "If the above code blocks throws an error, e.g. the MNIST servers are down, then uncomment the following code instead."
      ]
    },
    {
      "cell_type": "code",
      "execution_count": 8,
      "metadata": {
        "id": "4jyJVqUNdXDo"
      },
      "outputs": [],
      "source": [
        "# # temporary dataloader if MNIST service is unavailable\n",
        "# !wget www.di.ens.fr/~lelarge/MNIST.tar.gz\n",
        "# !tar -zxvf MNIST.tar.gz\n",
        "\n",
        "# mnist_train = datasets.MNIST(root = './', train=True, download=True, transform=transform)\n",
        "# mnist_test = datasets.MNIST(root = './', train=False, download=True, transform=transform)"
      ]
    },
    {
      "cell_type": "code",
      "execution_count": 9,
      "metadata": {
        "id": "aEtCbO6upkou",
        "pycharm": {
          "name": "#%%\n"
        }
      },
      "outputs": [],
      "source": [
        "# Create DataLoaders\n",
        "train_loader = DataLoader(mnist_train, batch_size=batch_size, shuffle=True, drop_last=True)\n",
        "test_loader = DataLoader(mnist_test, batch_size=batch_size, shuffle=True, drop_last=True)"
      ]
    },
    {
      "cell_type": "markdown",
      "metadata": {
        "id": "GhFyzySNeT_e"
      },
      "source": [
        "# 6. Define the Network"
      ]
    },
    {
      "cell_type": "code",
      "execution_count": 10,
      "metadata": {
        "id": "Lud3kywn55fj"
      },
      "outputs": [],
      "source": [
        "# Network Architecture\n",
        "num_inputs = 28*28\n",
        "num_hidden = 1000\n",
        "num_outputs = 10\n",
        "\n",
        "# Temporal Dynamics\n",
        "num_steps = 25\n",
        "beta = 0.95"
      ]
    },
    {
      "cell_type": "code",
      "execution_count": 19,
      "metadata": {
        "id": "-uquHLLmpkox",
        "pycharm": {
          "name": "#%%\n"
        }
      },
      "outputs": [],
      "source": [
        "# Define Network\n",
        "class Net(nn.Module):\n",
        "    def __init__(self):\n",
        "        super().__init__()\n",
        "\n",
        "        # Initialize layers\n",
        "        self.fc1 = nn.Linear(num_inputs, num_hidden)\n",
        "        self.lif1 = snn.Leaky(beta=beta)\n",
        "        self.fc2 = nn.Linear(num_hidden, num_outputs)\n",
        "        self.lif2 = snn.Leaky(beta=beta)\n",
        "\n",
        "    def forward(self, x):\n",
        "\n",
        "        # Initialize hidden states at t=0\n",
        "        mem1 = self.lif1.init_leaky()\n",
        "        mem2 = self.lif2.init_leaky()\n",
        "        \n",
        "        # Record the final layer\n",
        "        spk2_rec = []\n",
        "        mem2_rec = []\n",
        "\n",
        "        for step in range(num_steps):\n",
        "            cur1 = self.fc1(x)\n",
        "            spk1, mem1 = self.lif1(cur1, mem1)\n",
        "            cur2 = self.fc2(spk1)\n",
        "            spk2, mem2 = self.lif2(cur2, mem2)\n",
        "            spk2_rec.append(spk2)\n",
        "            mem2_rec.append(mem2)\n",
        "\n",
        "        return torch.stack(spk2_rec, dim=0), torch.stack(mem2_rec, dim=0)\n",
        "        \n",
        "# Load the network onto CUDA if available\n",
        "#net = Net().to(device)\n",
        "beta = 0.9\n",
        "spike_grad = surrogate.fast_sigmoid()\n",
        "net = nn.Sequential(nn.Conv2d(1, 12, 5),\n",
        "                    nn.MaxPool2d(2),\n",
        "                    snn.Leaky(beta=beta, spike_grad=spike_grad, init_hidden=True),\n",
        "                    nn.Conv2d(12, 64, 5),\n",
        "                    nn.MaxPool2d(2),\n",
        "                    snn.Leaky(beta=beta, spike_grad=spike_grad, init_hidden=True),\n",
        "                    nn.Flatten(),\n",
        "                    nn.Linear(64*4*4, 10),\n",
        "                    snn.Leaky(beta=beta, spike_grad=spike_grad, init_hidden=True, output=True)\n",
        "                    ).to(device).to(device)"
      ]
    },
    {
      "cell_type": "markdown",
      "metadata": {
        "id": "Y0fHcAKfrav6"
      },
      "source": [
        "The code in the `forward()` function will only be called once the input argument `x` is explicitly passed into `net`.\n",
        "\n",
        "* `fc1` applies a linear transformation to all input pixels from the MNIST dataset;\n",
        "* `lif1` integrates the weighted input over time, emitting a spike if the threshold condition is met;\n",
        "* `fc2` applies a linear transformation to the output spikes of `lif1`;\n",
        "* `lif2` is another spiking neuron layer, integrating the weighted spikes over time."
      ]
    },
    {
      "cell_type": "markdown",
      "metadata": {
        "id": "6a7MdORCtIx4"
      },
      "source": [
        "# 7. Training the SNN"
      ]
    },
    {
      "cell_type": "markdown",
      "metadata": {
        "id": "6D-fhT3Q7nXM"
      },
      "source": [
        "## 7.1 Accuracy Metric\n",
        "Below is a function that takes a batch of data, counts up all the spikes from each neuron (i.e., a rate code over the simulation time), and compares the index of the highest count with the actual target. If they match, then the network correctly predicted the target."
      ]
    },
    {
      "cell_type": "code",
      "execution_count": 26,
      "metadata": {
        "id": "-IxcnBAxpkoy",
        "pycharm": {
          "name": "#%%\n"
        }
      },
      "outputs": [],
      "source": [
        "# pass data into the network, sum the spikes over time\n",
        "# and compare the neuron with the highest number of spikes\n",
        "# with the target\n",
        "\n",
        "def print_batch_accuracy(data, targets, train=False):\n",
        "    output, _ = forward_pass(net,num_steps,data)\n",
        "    _, idx = output.sum(dim=0).max(1)\n",
        "    acc = np.mean((targets == idx).detach().cpu().numpy())\n",
        "\n",
        "    if train:\n",
        "        print(f\"Train set accuracy for a single minibatch: {acc*100:.2f}%\")\n",
        "    else:\n",
        "        print(f\"Test set accuracy for a single minibatch: {acc*100:.2f}%\")\n",
        "\n",
        "def train_printer(\n",
        "    data, targets, epoch,\n",
        "    counter, iter_counter,\n",
        "        loss_hist, test_loss_hist, test_data, test_targets):\n",
        "    print(f\"Epoch {epoch}, Iteration {iter_counter}\")\n",
        "    print(f\"Train Set Loss: {loss_hist[counter]:.2f}\")\n",
        "    print(f\"Test Set Loss: {test_loss_hist[counter]:.2f}\")\n",
        "    print_batch_accuracy(data, targets, train=True)\n",
        "    print_batch_accuracy(test_data, test_targets, train=False)\n",
        "    print(\"\\n\")"
      ]
    },
    {
      "cell_type": "markdown",
      "metadata": {
        "id": "woJSGSx68tsd"
      },
      "source": [
        "## 7.2 Loss Definition\n",
        "The `nn.CrossEntropyLoss` function in PyTorch automatically handles taking the softmax of the output layer as well as generating a loss at the output. "
      ]
    },
    {
      "cell_type": "code",
      "execution_count": 13,
      "metadata": {
        "id": "iqdVyjCNtdlp"
      },
      "outputs": [],
      "source": [
        "loss = nn.CrossEntropyLoss()"
      ]
    },
    {
      "cell_type": "markdown",
      "metadata": {
        "id": "b1fPgSoO9Jgb"
      },
      "source": [
        "## 7.3 Optimizer\n",
        "Adam is a robust optimizer that performs well on recurrent networks, so let's use that with a learning rate of $5\\times10^{-4}$. "
      ]
    },
    {
      "cell_type": "code",
      "execution_count": 14,
      "metadata": {
        "id": "l62ZR51s9Lxg"
      },
      "outputs": [],
      "source": [
        "optimizer = torch.optim.Adam(net.parameters(), lr=5e-4, betas=(0.9, 0.999))"
      ]
    },
    {
      "cell_type": "markdown",
      "metadata": {
        "id": "GiqAVKzVbfPn"
      },
      "source": [
        "## 7.4 One Iteration of Training\n",
        "Take the first batch of data and load it onto CUDA if available."
      ]
    },
    {
      "cell_type": "code",
      "execution_count": 15,
      "metadata": {
        "id": "Hv1q2-Mt9kVi"
      },
      "outputs": [],
      "source": [
        "data, targets = next(iter(train_loader))\n",
        "data = data.to(device)\n",
        "targets = targets.to(device)"
      ]
    },
    {
      "cell_type": "markdown",
      "metadata": {
        "id": "cFahTbAv-Vtt"
      },
      "source": [
        "Flatten the input data to a vector of size $784$ and pass it into the network."
      ]
    },
    {
      "cell_type": "code",
      "execution_count": 23,
      "metadata": {
        "id": "lltqTEXE92V-"
      },
      "outputs": [
        {
          "name": "stdout",
          "output_type": "stream",
          "text": [
            "torch.Size([25, 128, 10])\n"
          ]
        }
      ],
      "source": [
        "\n",
        "from snntorch import utils\n",
        "def forward_pass(net, num_steps, data):\n",
        "  mem_rec = []\n",
        "  spk_rec = []\n",
        "  utils.reset(net)  # resets hidden states for all LIF neurons in net\n",
        "\n",
        "  for step in range(num_steps):\n",
        "      spk_out, mem_out = net(data)\n",
        "      spk_rec.append(spk_out)\n",
        "      mem_rec.append(mem_out)\n",
        "\n",
        "  return torch.stack(spk_rec), torch.stack(mem_rec)\n",
        "spk_rec, mem_rec = forward_pass(net,num_steps,data)\n",
        "print(mem_rec.size())"
      ]
    },
    {
      "cell_type": "markdown",
      "metadata": {
        "id": "wd_qv6xD-lCb"
      },
      "source": [
        "The recording of the membrane potential is taken across:\n",
        "* 25 time steps\n",
        "* 128 samples of data\n",
        "* 10 output neurons\n",
        "\n",
        "We wish to calculate the loss at every time step, and sum these up together, as per Equation $(10)$:"
      ]
    },
    {
      "cell_type": "code",
      "execution_count": 24,
      "metadata": {
        "id": "nsnH8y5G-D-z"
      },
      "outputs": [
        {
          "name": "stdout",
          "output_type": "stream",
          "text": [
            "Training loss: 58.658\n"
          ]
        }
      ],
      "source": [
        "# initialize the total loss value\n",
        "loss_val = torch.zeros((1), dtype=dtype, device=device)\n",
        "\n",
        "# sum loss at every step\n",
        "for step in range(num_steps):\n",
        "  loss_val += loss(mem_rec[step], targets)\n",
        "\n",
        "print(f\"Training loss: {loss_val.item():.3f}\")"
      ]
    },
    {
      "cell_type": "markdown",
      "metadata": {
        "id": "Q4r0sKMV_4ri"
      },
      "source": [
        "The loss is quite large, because it is summed over 25 time steps. The accuracy is also bad (it should be roughly around 10%) as the network is untrained:"
      ]
    },
    {
      "cell_type": "code",
      "execution_count": 27,
      "metadata": {
        "id": "qetPvz7mAArd"
      },
      "outputs": [
        {
          "name": "stdout",
          "output_type": "stream",
          "text": [
            "Train set accuracy for a single minibatch: 9.38%\n"
          ]
        }
      ],
      "source": [
        "print_batch_accuracy(data, targets, train=True)"
      ]
    },
    {
      "cell_type": "markdown",
      "metadata": {
        "id": "fUcR0GcUAtPn"
      },
      "source": [
        "A single weight update is applied to the network as follows:"
      ]
    },
    {
      "cell_type": "code",
      "execution_count": null,
      "metadata": {
        "id": "WxyBhsmlAsWM"
      },
      "outputs": [
        {
          "name": "stdout",
          "output_type": "stream",
          "text": [
            "None\n"
          ]
        },
        {
          "name": "stderr",
          "output_type": "stream",
          "text": [
            "C:\\Users\\MON PC\\AppData\\Roaming\\Python\\Python310\\site-packages\\torch\\_tensor.py:1104: UserWarning: The .grad attribute of a Tensor that is not a leaf Tensor is being accessed. Its .grad attribute won't be populated during autograd.backward(). If you indeed want the .grad field to be populated for a non-leaf Tensor, use .retain_grad() on the non-leaf Tensor. If you access the non-leaf Tensor by mistake, make sure you access the leaf Tensor instead. See github.com/pytorch/pytorch/pull/30531 for more informations. (Triggered internally at  aten\\src\\ATen/core/TensorBody.h:475.)\n",
            "  return self._grad\n"
          ]
        }
      ],
      "source": [
        "# clear previously stored gradients\n",
        "optimizer.zero_grad()\n",
        "print(loss_val.grad)\n",
        "# calculate the gradients\n",
        "loss_val.backward()\n",
        "\n",
        "# weight update\n",
        "optimizer.step()"
      ]
    },
    {
      "cell_type": "markdown",
      "metadata": {
        "id": "ubyude8eA5p9"
      },
      "source": [
        "Now, re-run the loss calculation and accuracy after a single iteration:"
      ]
    },
    {
      "cell_type": "code",
      "execution_count": 29,
      "metadata": {
        "id": "l4ZquRR9A9He"
      },
      "outputs": [
        {
          "name": "stdout",
          "output_type": "stream",
          "text": [
            "Training loss: 58.658\n",
            "Train set accuracy for a single minibatch: 9.38%\n"
          ]
        }
      ],
      "source": [
        "# calculate new network outputs using the same data\n",
        "spk_rec, mem_rec = forward_pass(net,num_steps,data)\n",
        "\n",
        "# initialize the total loss value\n",
        "loss_val = torch.zeros((1), dtype=dtype, device=device)\n",
        "\n",
        "# sum loss at every step\n",
        "for step in range(num_steps):\n",
        "  loss_val += loss(mem_rec[step], targets)\n",
        "\n",
        "print(f\"Training loss: {loss_val.item():.3f}\")\n",
        "print_batch_accuracy(data, targets, train=True)"
      ]
    },
    {
      "cell_type": "markdown",
      "metadata": {
        "id": "fbNPCNTSBaW3"
      },
      "source": [
        "After only one iteration, the loss should have decreased and accuracy should have increased. Note how membrane potential is used to calculate the cross entropy\n",
        "loss, and spike count is used for the measure of accuracy. It is also possible to use the spike count in the loss ([see Tutorial 6](https://snntorch.readthedocs.io/en/latest/tutorials/index.html))"
      ]
    },
    {
      "cell_type": "markdown",
      "metadata": {
        "id": "mVgKDes8BiXq"
      },
      "source": [
        "## 7.5 Training Loop\n",
        "\n",
        "Let's combine everything into a training loop. We will train for one epoch (though feel free to increase `num_epochs`), exposing our network to each sample of data once."
      ]
    },
    {
      "cell_type": "code",
      "execution_count": 35,
      "metadata": {
        "id": "LMZMxEV8dcTC"
      },
      "outputs": [
        {
          "name": "stdout",
          "output_type": "stream",
          "text": [
            "None\n",
            "tensor([59.2914], device='cuda:0', grad_fn=<AddBackward0>)\n",
            "Epoch 0, Iteration 0\n",
            "Train Set Loss: 59.29\n",
            "Test Set Loss: 60.15\n",
            "Train set accuracy for a single minibatch: 7.03%\n",
            "Test set accuracy for a single minibatch: 9.38%\n",
            "\n",
            "\n",
            "None\n",
            "tensor([59.3816], device='cuda:0', grad_fn=<AddBackward0>)\n",
            "None\n",
            "tensor([59.0660], device='cuda:0', grad_fn=<AddBackward0>)\n",
            "None\n",
            "tensor([59.7191], device='cuda:0', grad_fn=<AddBackward0>)\n",
            "None\n",
            "tensor([59.5640], device='cuda:0', grad_fn=<AddBackward0>)\n",
            "None\n",
            "tensor([57.9039], device='cuda:0', grad_fn=<AddBackward0>)\n",
            "None\n",
            "tensor([58.8064], device='cuda:0', grad_fn=<AddBackward0>)\n",
            "None\n",
            "tensor([60.2134], device='cuda:0', grad_fn=<AddBackward0>)\n",
            "None\n",
            "tensor([59.1526], device='cuda:0', grad_fn=<AddBackward0>)\n",
            "None\n",
            "tensor([58.8814], device='cuda:0', grad_fn=<AddBackward0>)\n",
            "None\n",
            "tensor([58.6850], device='cuda:0', grad_fn=<AddBackward0>)\n",
            "None\n",
            "tensor([59.0738], device='cuda:0', grad_fn=<AddBackward0>)\n",
            "None\n",
            "tensor([59.3079], device='cuda:0', grad_fn=<AddBackward0>)\n",
            "None\n",
            "tensor([58.0911], device='cuda:0', grad_fn=<AddBackward0>)\n",
            "None\n",
            "tensor([59.8120], device='cuda:0', grad_fn=<AddBackward0>)\n",
            "None\n",
            "tensor([57.3775], device='cuda:0', grad_fn=<AddBackward0>)\n",
            "None\n",
            "tensor([58.7953], device='cuda:0', grad_fn=<AddBackward0>)\n",
            "None\n",
            "tensor([58.2704], device='cuda:0', grad_fn=<AddBackward0>)\n",
            "None\n",
            "tensor([60.0239], device='cuda:0', grad_fn=<AddBackward0>)\n",
            "None\n",
            "tensor([59.0356], device='cuda:0', grad_fn=<AddBackward0>)\n",
            "None\n",
            "tensor([58.8745], device='cuda:0', grad_fn=<AddBackward0>)\n",
            "None\n",
            "tensor([58.2935], device='cuda:0', grad_fn=<AddBackward0>)\n",
            "None\n",
            "tensor([60.8594], device='cuda:0', grad_fn=<AddBackward0>)\n",
            "None\n",
            "tensor([59.1384], device='cuda:0', grad_fn=<AddBackward0>)\n",
            "None\n",
            "tensor([60.4526], device='cuda:0', grad_fn=<AddBackward0>)\n",
            "None\n",
            "tensor([59.5178], device='cuda:0', grad_fn=<AddBackward0>)\n",
            "None\n",
            "tensor([60.0670], device='cuda:0', grad_fn=<AddBackward0>)\n",
            "None\n",
            "tensor([58.6488], device='cuda:0', grad_fn=<AddBackward0>)\n",
            "None\n",
            "tensor([58.8553], device='cuda:0', grad_fn=<AddBackward0>)\n",
            "None\n",
            "tensor([58.2416], device='cuda:0', grad_fn=<AddBackward0>)\n",
            "None\n",
            "tensor([58.8873], device='cuda:0', grad_fn=<AddBackward0>)\n",
            "None\n",
            "tensor([60.5580], device='cuda:0', grad_fn=<AddBackward0>)\n",
            "None\n",
            "tensor([58.9995], device='cuda:0', grad_fn=<AddBackward0>)\n",
            "None\n",
            "tensor([59.3003], device='cuda:0', grad_fn=<AddBackward0>)\n",
            "None\n",
            "tensor([59.5105], device='cuda:0', grad_fn=<AddBackward0>)\n",
            "None\n",
            "tensor([60.1936], device='cuda:0', grad_fn=<AddBackward0>)\n",
            "None\n",
            "tensor([58.5159], device='cuda:0', grad_fn=<AddBackward0>)\n",
            "None\n",
            "tensor([59.0896], device='cuda:0', grad_fn=<AddBackward0>)\n",
            "None\n",
            "tensor([59.2124], device='cuda:0', grad_fn=<AddBackward0>)\n",
            "None\n",
            "tensor([58.0970], device='cuda:0', grad_fn=<AddBackward0>)\n",
            "None\n",
            "tensor([58.7460], device='cuda:0', grad_fn=<AddBackward0>)\n",
            "None\n",
            "tensor([59.6646], device='cuda:0', grad_fn=<AddBackward0>)\n",
            "None\n",
            "tensor([59.3821], device='cuda:0', grad_fn=<AddBackward0>)\n",
            "None\n",
            "tensor([60.7891], device='cuda:0', grad_fn=<AddBackward0>)\n",
            "None\n",
            "tensor([58.4336], device='cuda:0', grad_fn=<AddBackward0>)\n",
            "None\n",
            "tensor([60.1793], device='cuda:0', grad_fn=<AddBackward0>)\n",
            "None\n",
            "tensor([59.9142], device='cuda:0', grad_fn=<AddBackward0>)\n",
            "None\n",
            "tensor([59.5065], device='cuda:0', grad_fn=<AddBackward0>)\n",
            "None\n",
            "tensor([59.3932], device='cuda:0', grad_fn=<AddBackward0>)\n",
            "None\n",
            "tensor([59.1867], device='cuda:0', grad_fn=<AddBackward0>)\n",
            "None\n",
            "tensor([59.5270], device='cuda:0', grad_fn=<AddBackward0>)\n",
            "Epoch 0, Iteration 50\n",
            "Train Set Loss: 59.53\n",
            "Test Set Loss: 59.44\n",
            "Train set accuracy for a single minibatch: 7.03%\n",
            "Test set accuracy for a single minibatch: 11.72%\n",
            "\n",
            "\n",
            "None\n",
            "tensor([58.9420], device='cuda:0', grad_fn=<AddBackward0>)\n",
            "None\n",
            "tensor([59.1019], device='cuda:0', grad_fn=<AddBackward0>)\n",
            "None\n",
            "tensor([59.3688], device='cuda:0', grad_fn=<AddBackward0>)\n",
            "None\n",
            "tensor([59.0282], device='cuda:0', grad_fn=<AddBackward0>)\n",
            "None\n",
            "tensor([59.0981], device='cuda:0', grad_fn=<AddBackward0>)\n",
            "None\n",
            "tensor([59.3558], device='cuda:0', grad_fn=<AddBackward0>)\n",
            "None\n",
            "tensor([58.4867], device='cuda:0', grad_fn=<AddBackward0>)\n",
            "None\n",
            "tensor([59.3680], device='cuda:0', grad_fn=<AddBackward0>)\n",
            "None\n",
            "tensor([59.9507], device='cuda:0', grad_fn=<AddBackward0>)\n",
            "None\n",
            "tensor([60.7752], device='cuda:0', grad_fn=<AddBackward0>)\n",
            "None\n",
            "tensor([59.4128], device='cuda:0', grad_fn=<AddBackward0>)\n",
            "None\n",
            "tensor([58.9892], device='cuda:0', grad_fn=<AddBackward0>)\n",
            "None\n",
            "tensor([59.6778], device='cuda:0', grad_fn=<AddBackward0>)\n",
            "None\n",
            "tensor([58.8103], device='cuda:0', grad_fn=<AddBackward0>)\n",
            "None\n",
            "tensor([58.2383], device='cuda:0', grad_fn=<AddBackward0>)\n",
            "None\n",
            "tensor([60.2126], device='cuda:0', grad_fn=<AddBackward0>)\n",
            "None\n",
            "tensor([58.5285], device='cuda:0', grad_fn=<AddBackward0>)\n",
            "None\n",
            "tensor([60.0248], device='cuda:0', grad_fn=<AddBackward0>)\n",
            "None\n",
            "tensor([59.3253], device='cuda:0', grad_fn=<AddBackward0>)\n",
            "None\n",
            "tensor([59.9847], device='cuda:0', grad_fn=<AddBackward0>)\n",
            "None\n",
            "tensor([58.8988], device='cuda:0', grad_fn=<AddBackward0>)\n",
            "None\n",
            "tensor([59.7078], device='cuda:0', grad_fn=<AddBackward0>)\n",
            "None\n",
            "tensor([60.0224], device='cuda:0', grad_fn=<AddBackward0>)\n",
            "None\n",
            "tensor([59.8776], device='cuda:0', grad_fn=<AddBackward0>)\n",
            "None\n",
            "tensor([59.4600], device='cuda:0', grad_fn=<AddBackward0>)\n",
            "None\n",
            "tensor([60.3158], device='cuda:0', grad_fn=<AddBackward0>)\n",
            "None\n",
            "tensor([60.0093], device='cuda:0', grad_fn=<AddBackward0>)\n",
            "None\n",
            "tensor([60.7722], device='cuda:0', grad_fn=<AddBackward0>)\n",
            "None\n",
            "tensor([59.0488], device='cuda:0', grad_fn=<AddBackward0>)\n",
            "None\n",
            "tensor([59.7992], device='cuda:0', grad_fn=<AddBackward0>)\n",
            "None\n",
            "tensor([59.8164], device='cuda:0', grad_fn=<AddBackward0>)\n",
            "None\n",
            "tensor([59.5373], device='cuda:0', grad_fn=<AddBackward0>)\n",
            "None\n",
            "tensor([59.6804], device='cuda:0', grad_fn=<AddBackward0>)\n",
            "None\n",
            "tensor([59.6430], device='cuda:0', grad_fn=<AddBackward0>)\n",
            "None\n",
            "tensor([60.4919], device='cuda:0', grad_fn=<AddBackward0>)\n",
            "None\n",
            "tensor([59.8998], device='cuda:0', grad_fn=<AddBackward0>)\n",
            "None\n",
            "tensor([59.6851], device='cuda:0', grad_fn=<AddBackward0>)\n",
            "None\n",
            "tensor([58.7114], device='cuda:0', grad_fn=<AddBackward0>)\n",
            "None\n",
            "tensor([59.1724], device='cuda:0', grad_fn=<AddBackward0>)\n",
            "None\n",
            "tensor([59.6349], device='cuda:0', grad_fn=<AddBackward0>)\n",
            "None\n",
            "tensor([59.4125], device='cuda:0', grad_fn=<AddBackward0>)\n",
            "None\n",
            "tensor([59.1817], device='cuda:0', grad_fn=<AddBackward0>)\n",
            "None\n",
            "tensor([60.8699], device='cuda:0', grad_fn=<AddBackward0>)\n",
            "None\n",
            "tensor([58.8255], device='cuda:0', grad_fn=<AddBackward0>)\n",
            "None\n",
            "tensor([60.2701], device='cuda:0', grad_fn=<AddBackward0>)\n",
            "None\n",
            "tensor([59.6307], device='cuda:0', grad_fn=<AddBackward0>)\n",
            "None\n",
            "tensor([59.4108], device='cuda:0', grad_fn=<AddBackward0>)\n",
            "None\n",
            "tensor([59.7858], device='cuda:0', grad_fn=<AddBackward0>)\n",
            "None\n",
            "tensor([58.5513], device='cuda:0', grad_fn=<AddBackward0>)\n",
            "None\n",
            "tensor([60.0131], device='cuda:0', grad_fn=<AddBackward0>)\n",
            "Epoch 0, Iteration 100\n",
            "Train Set Loss: 60.01\n",
            "Test Set Loss: 58.81\n",
            "Train set accuracy for a single minibatch: 10.94%\n",
            "Test set accuracy for a single minibatch: 15.62%\n",
            "\n",
            "\n",
            "None\n",
            "tensor([59.9481], device='cuda:0', grad_fn=<AddBackward0>)\n",
            "None\n",
            "tensor([58.7235], device='cuda:0', grad_fn=<AddBackward0>)\n",
            "None\n",
            "tensor([59.5391], device='cuda:0', grad_fn=<AddBackward0>)\n",
            "None\n",
            "tensor([58.9980], device='cuda:0', grad_fn=<AddBackward0>)\n",
            "None\n",
            "tensor([60.6433], device='cuda:0', grad_fn=<AddBackward0>)\n",
            "None\n",
            "tensor([58.4470], device='cuda:0', grad_fn=<AddBackward0>)\n",
            "None\n",
            "tensor([60.2449], device='cuda:0', grad_fn=<AddBackward0>)\n",
            "None\n",
            "tensor([58.5085], device='cuda:0', grad_fn=<AddBackward0>)\n",
            "None\n",
            "tensor([59.2552], device='cuda:0', grad_fn=<AddBackward0>)\n",
            "None\n",
            "tensor([59.5800], device='cuda:0', grad_fn=<AddBackward0>)\n",
            "None\n",
            "tensor([58.6174], device='cuda:0', grad_fn=<AddBackward0>)\n",
            "None\n",
            "tensor([59.2665], device='cuda:0', grad_fn=<AddBackward0>)\n",
            "None\n",
            "tensor([59.1323], device='cuda:0', grad_fn=<AddBackward0>)\n",
            "None\n",
            "tensor([60.8909], device='cuda:0', grad_fn=<AddBackward0>)\n",
            "None\n",
            "tensor([60.4336], device='cuda:0', grad_fn=<AddBackward0>)\n",
            "None\n",
            "tensor([58.5445], device='cuda:0', grad_fn=<AddBackward0>)\n",
            "None\n",
            "tensor([58.4212], device='cuda:0', grad_fn=<AddBackward0>)\n",
            "None\n",
            "tensor([59.9556], device='cuda:0', grad_fn=<AddBackward0>)\n",
            "None\n",
            "tensor([59.5974], device='cuda:0', grad_fn=<AddBackward0>)\n",
            "None\n",
            "tensor([59.4357], device='cuda:0', grad_fn=<AddBackward0>)\n",
            "None\n",
            "tensor([59.0777], device='cuda:0', grad_fn=<AddBackward0>)\n",
            "None\n",
            "tensor([59.3554], device='cuda:0', grad_fn=<AddBackward0>)\n",
            "None\n",
            "tensor([58.6539], device='cuda:0', grad_fn=<AddBackward0>)\n",
            "None\n",
            "tensor([60.7260], device='cuda:0', grad_fn=<AddBackward0>)\n",
            "None\n",
            "tensor([58.4031], device='cuda:0', grad_fn=<AddBackward0>)\n",
            "None\n",
            "tensor([59.5467], device='cuda:0', grad_fn=<AddBackward0>)\n",
            "None\n",
            "tensor([58.8348], device='cuda:0', grad_fn=<AddBackward0>)\n",
            "None\n",
            "tensor([59.7610], device='cuda:0', grad_fn=<AddBackward0>)\n",
            "None\n",
            "tensor([60.2445], device='cuda:0', grad_fn=<AddBackward0>)\n",
            "None\n",
            "tensor([59.1833], device='cuda:0', grad_fn=<AddBackward0>)\n",
            "None\n",
            "tensor([60.1600], device='cuda:0', grad_fn=<AddBackward0>)\n",
            "None\n",
            "tensor([59.4385], device='cuda:0', grad_fn=<AddBackward0>)\n",
            "None\n",
            "tensor([60.3408], device='cuda:0', grad_fn=<AddBackward0>)\n",
            "None\n",
            "tensor([59.5841], device='cuda:0', grad_fn=<AddBackward0>)\n",
            "None\n",
            "tensor([59.5578], device='cuda:0', grad_fn=<AddBackward0>)\n",
            "None\n",
            "tensor([58.6864], device='cuda:0', grad_fn=<AddBackward0>)\n",
            "None\n",
            "tensor([59.8388], device='cuda:0', grad_fn=<AddBackward0>)\n",
            "None\n",
            "tensor([59.6984], device='cuda:0', grad_fn=<AddBackward0>)\n",
            "None\n",
            "tensor([59.4647], device='cuda:0', grad_fn=<AddBackward0>)\n",
            "None\n",
            "tensor([59.8521], device='cuda:0', grad_fn=<AddBackward0>)\n",
            "None\n",
            "tensor([57.9104], device='cuda:0', grad_fn=<AddBackward0>)\n",
            "None\n",
            "tensor([60.2227], device='cuda:0', grad_fn=<AddBackward0>)\n",
            "None\n",
            "tensor([58.9477], device='cuda:0', grad_fn=<AddBackward0>)\n",
            "None\n",
            "tensor([58.5101], device='cuda:0', grad_fn=<AddBackward0>)\n",
            "None\n",
            "tensor([57.4890], device='cuda:0', grad_fn=<AddBackward0>)\n",
            "None\n",
            "tensor([60.4298], device='cuda:0', grad_fn=<AddBackward0>)\n",
            "None\n",
            "tensor([59.2775], device='cuda:0', grad_fn=<AddBackward0>)\n",
            "None\n",
            "tensor([59.6176], device='cuda:0', grad_fn=<AddBackward0>)\n",
            "None\n",
            "tensor([59.9228], device='cuda:0', grad_fn=<AddBackward0>)\n",
            "None\n",
            "tensor([58.2155], device='cuda:0', grad_fn=<AddBackward0>)\n",
            "Epoch 0, Iteration 150\n",
            "Train Set Loss: 58.22\n",
            "Test Set Loss: 58.36\n",
            "Train set accuracy for a single minibatch: 9.38%\n",
            "Test set accuracy for a single minibatch: 7.03%\n",
            "\n",
            "\n",
            "None\n",
            "tensor([60.3237], device='cuda:0', grad_fn=<AddBackward0>)\n",
            "None\n",
            "tensor([58.3546], device='cuda:0', grad_fn=<AddBackward0>)\n",
            "None\n",
            "tensor([59.9461], device='cuda:0', grad_fn=<AddBackward0>)\n",
            "None\n",
            "tensor([59.5349], device='cuda:0', grad_fn=<AddBackward0>)\n",
            "None\n",
            "tensor([60.1761], device='cuda:0', grad_fn=<AddBackward0>)\n",
            "None\n",
            "tensor([59.8305], device='cuda:0', grad_fn=<AddBackward0>)\n",
            "None\n",
            "tensor([58.4075], device='cuda:0', grad_fn=<AddBackward0>)\n",
            "None\n",
            "tensor([59.1009], device='cuda:0', grad_fn=<AddBackward0>)\n",
            "None\n",
            "tensor([59.2840], device='cuda:0', grad_fn=<AddBackward0>)\n",
            "None\n",
            "tensor([60.3606], device='cuda:0', grad_fn=<AddBackward0>)\n",
            "None\n",
            "tensor([59.5500], device='cuda:0', grad_fn=<AddBackward0>)\n",
            "None\n",
            "tensor([59.6552], device='cuda:0', grad_fn=<AddBackward0>)\n",
            "None\n",
            "tensor([60.0798], device='cuda:0', grad_fn=<AddBackward0>)\n",
            "None\n",
            "tensor([59.9699], device='cuda:0', grad_fn=<AddBackward0>)\n",
            "None\n",
            "tensor([58.7021], device='cuda:0', grad_fn=<AddBackward0>)\n",
            "None\n",
            "tensor([57.7482], device='cuda:0', grad_fn=<AddBackward0>)\n",
            "None\n",
            "tensor([57.9230], device='cuda:0', grad_fn=<AddBackward0>)\n",
            "None\n",
            "tensor([59.5173], device='cuda:0', grad_fn=<AddBackward0>)\n",
            "None\n",
            "tensor([59.5553], device='cuda:0', grad_fn=<AddBackward0>)\n",
            "None\n",
            "tensor([59.3470], device='cuda:0', grad_fn=<AddBackward0>)\n",
            "None\n",
            "tensor([60.5770], device='cuda:0', grad_fn=<AddBackward0>)\n",
            "None\n",
            "tensor([58.9736], device='cuda:0', grad_fn=<AddBackward0>)\n",
            "None\n",
            "tensor([58.5267], device='cuda:0', grad_fn=<AddBackward0>)\n",
            "None\n",
            "tensor([59.7301], device='cuda:0', grad_fn=<AddBackward0>)\n",
            "None\n",
            "tensor([60.0387], device='cuda:0', grad_fn=<AddBackward0>)\n",
            "None\n",
            "tensor([60.9823], device='cuda:0', grad_fn=<AddBackward0>)\n",
            "None\n",
            "tensor([58.9270], device='cuda:0', grad_fn=<AddBackward0>)\n",
            "None\n",
            "tensor([58.7106], device='cuda:0', grad_fn=<AddBackward0>)\n",
            "None\n",
            "tensor([58.8060], device='cuda:0', grad_fn=<AddBackward0>)\n",
            "None\n",
            "tensor([58.8435], device='cuda:0', grad_fn=<AddBackward0>)\n",
            "None\n",
            "tensor([58.9105], device='cuda:0', grad_fn=<AddBackward0>)\n",
            "None\n",
            "tensor([59.7556], device='cuda:0', grad_fn=<AddBackward0>)\n",
            "None\n",
            "tensor([58.6605], device='cuda:0', grad_fn=<AddBackward0>)\n",
            "None\n",
            "tensor([59.2869], device='cuda:0', grad_fn=<AddBackward0>)\n",
            "None\n",
            "tensor([60.1008], device='cuda:0', grad_fn=<AddBackward0>)\n",
            "None\n",
            "tensor([59.4568], device='cuda:0', grad_fn=<AddBackward0>)\n",
            "None\n",
            "tensor([59.6295], device='cuda:0', grad_fn=<AddBackward0>)\n",
            "None\n",
            "tensor([58.7644], device='cuda:0', grad_fn=<AddBackward0>)\n",
            "None\n",
            "tensor([59.5800], device='cuda:0', grad_fn=<AddBackward0>)\n",
            "None\n",
            "tensor([58.3673], device='cuda:0', grad_fn=<AddBackward0>)\n",
            "None\n",
            "tensor([60.2172], device='cuda:0', grad_fn=<AddBackward0>)\n",
            "None\n",
            "tensor([59.5499], device='cuda:0', grad_fn=<AddBackward0>)\n",
            "None\n",
            "tensor([59.1675], device='cuda:0', grad_fn=<AddBackward0>)\n",
            "None\n",
            "tensor([59.9881], device='cuda:0', grad_fn=<AddBackward0>)\n",
            "None\n",
            "tensor([59.1500], device='cuda:0', grad_fn=<AddBackward0>)\n",
            "None\n",
            "tensor([58.2962], device='cuda:0', grad_fn=<AddBackward0>)\n",
            "None\n",
            "tensor([60.0264], device='cuda:0', grad_fn=<AddBackward0>)\n",
            "None\n",
            "tensor([58.9265], device='cuda:0', grad_fn=<AddBackward0>)\n",
            "None\n",
            "tensor([58.9695], device='cuda:0', grad_fn=<AddBackward0>)\n",
            "None\n",
            "tensor([58.4321], device='cuda:0', grad_fn=<AddBackward0>)\n",
            "Epoch 0, Iteration 200\n",
            "Train Set Loss: 58.43\n",
            "Test Set Loss: 58.86\n",
            "Train set accuracy for a single minibatch: 7.81%\n",
            "Test set accuracy for a single minibatch: 10.16%\n",
            "\n",
            "\n",
            "None\n",
            "tensor([60.0093], device='cuda:0', grad_fn=<AddBackward0>)\n",
            "None\n",
            "tensor([58.9026], device='cuda:0', grad_fn=<AddBackward0>)\n",
            "None\n",
            "tensor([59.8944], device='cuda:0', grad_fn=<AddBackward0>)\n",
            "None\n",
            "tensor([59.5502], device='cuda:0', grad_fn=<AddBackward0>)\n",
            "None\n",
            "tensor([58.6757], device='cuda:0', grad_fn=<AddBackward0>)\n",
            "None\n",
            "tensor([58.8187], device='cuda:0', grad_fn=<AddBackward0>)\n",
            "None\n",
            "tensor([58.4760], device='cuda:0', grad_fn=<AddBackward0>)\n",
            "None\n",
            "tensor([59.7730], device='cuda:0', grad_fn=<AddBackward0>)\n",
            "None\n",
            "tensor([58.4284], device='cuda:0', grad_fn=<AddBackward0>)\n",
            "None\n",
            "tensor([59.4678], device='cuda:0', grad_fn=<AddBackward0>)\n",
            "None\n",
            "tensor([59.6621], device='cuda:0', grad_fn=<AddBackward0>)\n",
            "None\n",
            "tensor([58.4564], device='cuda:0', grad_fn=<AddBackward0>)\n",
            "None\n",
            "tensor([59.2871], device='cuda:0', grad_fn=<AddBackward0>)\n",
            "None\n",
            "tensor([59.8091], device='cuda:0', grad_fn=<AddBackward0>)\n",
            "None\n",
            "tensor([58.4737], device='cuda:0', grad_fn=<AddBackward0>)\n",
            "None\n",
            "tensor([58.4385], device='cuda:0', grad_fn=<AddBackward0>)\n",
            "None\n",
            "tensor([59.6070], device='cuda:0', grad_fn=<AddBackward0>)\n",
            "None\n",
            "tensor([59.1204], device='cuda:0', grad_fn=<AddBackward0>)\n",
            "None\n",
            "tensor([59.4039], device='cuda:0', grad_fn=<AddBackward0>)\n",
            "None\n",
            "tensor([58.7149], device='cuda:0', grad_fn=<AddBackward0>)\n",
            "None\n",
            "tensor([60.4445], device='cuda:0', grad_fn=<AddBackward0>)\n",
            "None\n",
            "tensor([61.2356], device='cuda:0', grad_fn=<AddBackward0>)\n",
            "None\n",
            "tensor([59.3470], device='cuda:0', grad_fn=<AddBackward0>)\n",
            "None\n",
            "tensor([60.3947], device='cuda:0', grad_fn=<AddBackward0>)\n",
            "None\n",
            "tensor([58.9307], device='cuda:0', grad_fn=<AddBackward0>)\n",
            "None\n",
            "tensor([58.3763], device='cuda:0', grad_fn=<AddBackward0>)\n",
            "None\n",
            "tensor([59.0977], device='cuda:0', grad_fn=<AddBackward0>)\n",
            "None\n",
            "tensor([59.3808], device='cuda:0', grad_fn=<AddBackward0>)\n",
            "None\n",
            "tensor([60.8515], device='cuda:0', grad_fn=<AddBackward0>)\n",
            "None\n",
            "tensor([59.5789], device='cuda:0', grad_fn=<AddBackward0>)\n",
            "None\n",
            "tensor([59.2235], device='cuda:0', grad_fn=<AddBackward0>)\n",
            "None\n",
            "tensor([61.1370], device='cuda:0', grad_fn=<AddBackward0>)\n",
            "None\n",
            "tensor([59.7728], device='cuda:0', grad_fn=<AddBackward0>)\n",
            "None\n",
            "tensor([59.8638], device='cuda:0', grad_fn=<AddBackward0>)\n",
            "None\n",
            "tensor([59.5204], device='cuda:0', grad_fn=<AddBackward0>)\n",
            "None\n",
            "tensor([60.4849], device='cuda:0', grad_fn=<AddBackward0>)\n",
            "None\n",
            "tensor([58.7632], device='cuda:0', grad_fn=<AddBackward0>)\n",
            "None\n",
            "tensor([59.4584], device='cuda:0', grad_fn=<AddBackward0>)\n",
            "None\n",
            "tensor([60.7902], device='cuda:0', grad_fn=<AddBackward0>)\n",
            "None\n",
            "tensor([59.6263], device='cuda:0', grad_fn=<AddBackward0>)\n",
            "None\n",
            "tensor([57.3742], device='cuda:0', grad_fn=<AddBackward0>)\n",
            "None\n",
            "tensor([58.8591], device='cuda:0', grad_fn=<AddBackward0>)\n",
            "None\n",
            "tensor([59.3924], device='cuda:0', grad_fn=<AddBackward0>)\n",
            "None\n",
            "tensor([58.9074], device='cuda:0', grad_fn=<AddBackward0>)\n",
            "None\n",
            "tensor([58.1397], device='cuda:0', grad_fn=<AddBackward0>)\n",
            "None\n",
            "tensor([57.8843], device='cuda:0', grad_fn=<AddBackward0>)\n",
            "None\n",
            "tensor([59.8219], device='cuda:0', grad_fn=<AddBackward0>)\n",
            "None\n",
            "tensor([59.3581], device='cuda:0', grad_fn=<AddBackward0>)\n",
            "None\n",
            "tensor([58.8308], device='cuda:0', grad_fn=<AddBackward0>)\n",
            "None\n",
            "tensor([59.0523], device='cuda:0', grad_fn=<AddBackward0>)\n",
            "Epoch 0, Iteration 250\n",
            "Train Set Loss: 59.05\n",
            "Test Set Loss: 58.10\n",
            "Train set accuracy for a single minibatch: 6.25%\n",
            "Test set accuracy for a single minibatch: 13.28%\n",
            "\n",
            "\n",
            "None\n",
            "tensor([58.9992], device='cuda:0', grad_fn=<AddBackward0>)\n",
            "None\n",
            "tensor([61.3914], device='cuda:0', grad_fn=<AddBackward0>)\n",
            "None\n",
            "tensor([59.1983], device='cuda:0', grad_fn=<AddBackward0>)\n",
            "None\n",
            "tensor([59.6642], device='cuda:0', grad_fn=<AddBackward0>)\n",
            "None\n",
            "tensor([58.5771], device='cuda:0', grad_fn=<AddBackward0>)\n",
            "None\n",
            "tensor([60.4216], device='cuda:0', grad_fn=<AddBackward0>)\n",
            "None\n",
            "tensor([59.1460], device='cuda:0', grad_fn=<AddBackward0>)\n",
            "None\n",
            "tensor([57.8699], device='cuda:0', grad_fn=<AddBackward0>)\n",
            "None\n",
            "tensor([59.0499], device='cuda:0', grad_fn=<AddBackward0>)\n",
            "None\n",
            "tensor([59.3486], device='cuda:0', grad_fn=<AddBackward0>)\n",
            "None\n",
            "tensor([59.0997], device='cuda:0', grad_fn=<AddBackward0>)\n",
            "None\n",
            "tensor([58.7957], device='cuda:0', grad_fn=<AddBackward0>)\n",
            "None\n",
            "tensor([60.8150], device='cuda:0', grad_fn=<AddBackward0>)\n",
            "None\n",
            "tensor([59.6552], device='cuda:0', grad_fn=<AddBackward0>)\n",
            "None\n",
            "tensor([60.3150], device='cuda:0', grad_fn=<AddBackward0>)\n",
            "None\n",
            "tensor([59.0128], device='cuda:0', grad_fn=<AddBackward0>)\n",
            "None\n",
            "tensor([60.4666], device='cuda:0', grad_fn=<AddBackward0>)\n",
            "None\n",
            "tensor([60.6579], device='cuda:0', grad_fn=<AddBackward0>)\n",
            "None\n",
            "tensor([59.4289], device='cuda:0', grad_fn=<AddBackward0>)\n",
            "None\n",
            "tensor([60.1454], device='cuda:0', grad_fn=<AddBackward0>)\n",
            "None\n",
            "tensor([58.7843], device='cuda:0', grad_fn=<AddBackward0>)\n",
            "None\n",
            "tensor([59.8214], device='cuda:0', grad_fn=<AddBackward0>)\n",
            "None\n",
            "tensor([59.1501], device='cuda:0', grad_fn=<AddBackward0>)\n",
            "None\n",
            "tensor([58.2286], device='cuda:0', grad_fn=<AddBackward0>)\n",
            "None\n",
            "tensor([58.8098], device='cuda:0', grad_fn=<AddBackward0>)\n",
            "None\n",
            "tensor([59.2196], device='cuda:0', grad_fn=<AddBackward0>)\n",
            "None\n",
            "tensor([59.9437], device='cuda:0', grad_fn=<AddBackward0>)\n",
            "None\n",
            "tensor([57.8117], device='cuda:0', grad_fn=<AddBackward0>)\n",
            "None\n",
            "tensor([59.2741], device='cuda:0', grad_fn=<AddBackward0>)\n",
            "None\n",
            "tensor([59.6220], device='cuda:0', grad_fn=<AddBackward0>)\n",
            "None\n",
            "tensor([58.8691], device='cuda:0', grad_fn=<AddBackward0>)\n",
            "None\n",
            "tensor([60.2253], device='cuda:0', grad_fn=<AddBackward0>)\n",
            "None\n",
            "tensor([58.8265], device='cuda:0', grad_fn=<AddBackward0>)\n",
            "None\n",
            "tensor([59.8846], device='cuda:0', grad_fn=<AddBackward0>)\n",
            "None\n",
            "tensor([59.5053], device='cuda:0', grad_fn=<AddBackward0>)\n",
            "None\n",
            "tensor([59.2764], device='cuda:0', grad_fn=<AddBackward0>)\n",
            "None\n",
            "tensor([59.1334], device='cuda:0', grad_fn=<AddBackward0>)\n",
            "None\n",
            "tensor([58.9734], device='cuda:0', grad_fn=<AddBackward0>)\n",
            "None\n",
            "tensor([58.2414], device='cuda:0', grad_fn=<AddBackward0>)\n",
            "None\n",
            "tensor([58.6658], device='cuda:0', grad_fn=<AddBackward0>)\n",
            "None\n",
            "tensor([60.2906], device='cuda:0', grad_fn=<AddBackward0>)\n",
            "None\n",
            "tensor([59.7505], device='cuda:0', grad_fn=<AddBackward0>)\n",
            "None\n",
            "tensor([59.5561], device='cuda:0', grad_fn=<AddBackward0>)\n",
            "None\n",
            "tensor([59.1535], device='cuda:0', grad_fn=<AddBackward0>)\n",
            "None\n",
            "tensor([58.0414], device='cuda:0', grad_fn=<AddBackward0>)\n",
            "None\n",
            "tensor([60.2771], device='cuda:0', grad_fn=<AddBackward0>)\n",
            "None\n",
            "tensor([58.5667], device='cuda:0', grad_fn=<AddBackward0>)\n",
            "None\n",
            "tensor([59.3999], device='cuda:0', grad_fn=<AddBackward0>)\n",
            "None\n",
            "tensor([59.4197], device='cuda:0', grad_fn=<AddBackward0>)\n",
            "None\n",
            "tensor([60.4241], device='cuda:0', grad_fn=<AddBackward0>)\n",
            "Epoch 0, Iteration 300\n",
            "Train Set Loss: 60.42\n",
            "Test Set Loss: 57.63\n",
            "Train set accuracy for a single minibatch: 6.25%\n",
            "Test set accuracy for a single minibatch: 16.41%\n",
            "\n",
            "\n",
            "None\n",
            "tensor([59.2933], device='cuda:0', grad_fn=<AddBackward0>)\n",
            "None\n",
            "tensor([59.0319], device='cuda:0', grad_fn=<AddBackward0>)\n",
            "None\n",
            "tensor([59.0133], device='cuda:0', grad_fn=<AddBackward0>)\n",
            "None\n",
            "tensor([58.5461], device='cuda:0', grad_fn=<AddBackward0>)\n",
            "None\n",
            "tensor([59.6447], device='cuda:0', grad_fn=<AddBackward0>)\n",
            "None\n",
            "tensor([60.5460], device='cuda:0', grad_fn=<AddBackward0>)\n",
            "None\n",
            "tensor([59.5725], device='cuda:0', grad_fn=<AddBackward0>)\n",
            "None\n",
            "tensor([58.4763], device='cuda:0', grad_fn=<AddBackward0>)\n",
            "None\n",
            "tensor([59.1694], device='cuda:0', grad_fn=<AddBackward0>)\n",
            "None\n",
            "tensor([59.0260], device='cuda:0', grad_fn=<AddBackward0>)\n",
            "None\n",
            "tensor([58.9444], device='cuda:0', grad_fn=<AddBackward0>)\n",
            "None\n",
            "tensor([58.9556], device='cuda:0', grad_fn=<AddBackward0>)\n",
            "None\n",
            "tensor([59.3648], device='cuda:0', grad_fn=<AddBackward0>)\n",
            "None\n",
            "tensor([58.5848], device='cuda:0', grad_fn=<AddBackward0>)\n",
            "None\n",
            "tensor([59.6994], device='cuda:0', grad_fn=<AddBackward0>)\n",
            "None\n",
            "tensor([59.2635], device='cuda:0', grad_fn=<AddBackward0>)\n",
            "None\n",
            "tensor([59.6932], device='cuda:0', grad_fn=<AddBackward0>)\n",
            "None\n",
            "tensor([61.1315], device='cuda:0', grad_fn=<AddBackward0>)\n",
            "None\n",
            "tensor([60.9028], device='cuda:0', grad_fn=<AddBackward0>)\n",
            "None\n",
            "tensor([58.8238], device='cuda:0', grad_fn=<AddBackward0>)\n",
            "None\n",
            "tensor([60.6795], device='cuda:0', grad_fn=<AddBackward0>)\n",
            "None\n",
            "tensor([59.3103], device='cuda:0', grad_fn=<AddBackward0>)\n",
            "None\n",
            "tensor([61.0955], device='cuda:0', grad_fn=<AddBackward0>)\n",
            "None\n",
            "tensor([59.5344], device='cuda:0', grad_fn=<AddBackward0>)\n",
            "None\n",
            "tensor([59.1718], device='cuda:0', grad_fn=<AddBackward0>)\n",
            "None\n",
            "tensor([59.5554], device='cuda:0', grad_fn=<AddBackward0>)\n",
            "None\n",
            "tensor([60.5462], device='cuda:0', grad_fn=<AddBackward0>)\n",
            "None\n",
            "tensor([59.2534], device='cuda:0', grad_fn=<AddBackward0>)\n",
            "None\n",
            "tensor([59.7098], device='cuda:0', grad_fn=<AddBackward0>)\n",
            "None\n",
            "tensor([59.4941], device='cuda:0', grad_fn=<AddBackward0>)\n",
            "None\n",
            "tensor([59.5089], device='cuda:0', grad_fn=<AddBackward0>)\n",
            "None\n",
            "tensor([57.6665], device='cuda:0', grad_fn=<AddBackward0>)\n",
            "None\n",
            "tensor([59.2410], device='cuda:0', grad_fn=<AddBackward0>)\n",
            "None\n",
            "tensor([59.1512], device='cuda:0', grad_fn=<AddBackward0>)\n",
            "None\n",
            "tensor([60.2858], device='cuda:0', grad_fn=<AddBackward0>)\n",
            "None\n",
            "tensor([59.9544], device='cuda:0', grad_fn=<AddBackward0>)\n",
            "None\n",
            "tensor([59.5015], device='cuda:0', grad_fn=<AddBackward0>)\n",
            "None\n",
            "tensor([59.5051], device='cuda:0', grad_fn=<AddBackward0>)\n",
            "None\n",
            "tensor([58.9763], device='cuda:0', grad_fn=<AddBackward0>)\n",
            "None\n",
            "tensor([59.0174], device='cuda:0', grad_fn=<AddBackward0>)\n",
            "None\n",
            "tensor([59.1908], device='cuda:0', grad_fn=<AddBackward0>)\n",
            "None\n",
            "tensor([59.4503], device='cuda:0', grad_fn=<AddBackward0>)\n",
            "None\n",
            "tensor([59.5683], device='cuda:0', grad_fn=<AddBackward0>)\n",
            "None\n",
            "tensor([59.8715], device='cuda:0', grad_fn=<AddBackward0>)\n",
            "None\n",
            "tensor([58.9262], device='cuda:0', grad_fn=<AddBackward0>)\n",
            "None\n",
            "tensor([59.6481], device='cuda:0', grad_fn=<AddBackward0>)\n",
            "None\n",
            "tensor([59.4605], device='cuda:0', grad_fn=<AddBackward0>)\n",
            "None\n",
            "tensor([58.8779], device='cuda:0', grad_fn=<AddBackward0>)\n",
            "None\n",
            "tensor([59.1148], device='cuda:0', grad_fn=<AddBackward0>)\n",
            "None\n",
            "tensor([59.0440], device='cuda:0', grad_fn=<AddBackward0>)\n",
            "Epoch 0, Iteration 350\n",
            "Train Set Loss: 59.04\n",
            "Test Set Loss: 58.87\n",
            "Train set accuracy for a single minibatch: 7.03%\n",
            "Test set accuracy for a single minibatch: 8.59%\n",
            "\n",
            "\n",
            "None\n",
            "tensor([59.3203], device='cuda:0', grad_fn=<AddBackward0>)\n",
            "None\n",
            "tensor([59.4512], device='cuda:0', grad_fn=<AddBackward0>)\n",
            "None\n",
            "tensor([59.9135], device='cuda:0', grad_fn=<AddBackward0>)\n",
            "None\n",
            "tensor([60.1808], device='cuda:0', grad_fn=<AddBackward0>)\n",
            "None\n",
            "tensor([60.3217], device='cuda:0', grad_fn=<AddBackward0>)\n",
            "None\n",
            "tensor([59.7270], device='cuda:0', grad_fn=<AddBackward0>)\n",
            "None\n",
            "tensor([59.7392], device='cuda:0', grad_fn=<AddBackward0>)\n",
            "None\n",
            "tensor([59.7630], device='cuda:0', grad_fn=<AddBackward0>)\n",
            "None\n",
            "tensor([58.8388], device='cuda:0', grad_fn=<AddBackward0>)\n",
            "None\n",
            "tensor([58.4893], device='cuda:0', grad_fn=<AddBackward0>)\n",
            "None\n",
            "tensor([61.5496], device='cuda:0', grad_fn=<AddBackward0>)\n",
            "None\n",
            "tensor([58.0181], device='cuda:0', grad_fn=<AddBackward0>)\n",
            "None\n",
            "tensor([59.2672], device='cuda:0', grad_fn=<AddBackward0>)\n",
            "None\n",
            "tensor([60.0874], device='cuda:0', grad_fn=<AddBackward0>)\n",
            "None\n",
            "tensor([60.3029], device='cuda:0', grad_fn=<AddBackward0>)\n",
            "None\n",
            "tensor([58.2330], device='cuda:0', grad_fn=<AddBackward0>)\n",
            "None\n",
            "tensor([59.1683], device='cuda:0', grad_fn=<AddBackward0>)\n",
            "None\n",
            "tensor([58.4979], device='cuda:0', grad_fn=<AddBackward0>)\n",
            "None\n",
            "tensor([58.7608], device='cuda:0', grad_fn=<AddBackward0>)\n",
            "None\n",
            "tensor([60.3086], device='cuda:0', grad_fn=<AddBackward0>)\n",
            "None\n",
            "tensor([58.4319], device='cuda:0', grad_fn=<AddBackward0>)\n",
            "None\n",
            "tensor([59.8491], device='cuda:0', grad_fn=<AddBackward0>)\n",
            "None\n",
            "tensor([58.6296], device='cuda:0', grad_fn=<AddBackward0>)\n",
            "None\n",
            "tensor([58.5126], device='cuda:0', grad_fn=<AddBackward0>)\n",
            "None\n",
            "tensor([59.2389], device='cuda:0', grad_fn=<AddBackward0>)\n",
            "None\n",
            "tensor([59.7934], device='cuda:0', grad_fn=<AddBackward0>)\n",
            "None\n",
            "tensor([59.7745], device='cuda:0', grad_fn=<AddBackward0>)\n",
            "None\n",
            "tensor([59.0320], device='cuda:0', grad_fn=<AddBackward0>)\n",
            "None\n",
            "tensor([58.6593], device='cuda:0', grad_fn=<AddBackward0>)\n",
            "None\n",
            "tensor([59.1447], device='cuda:0', grad_fn=<AddBackward0>)\n",
            "None\n",
            "tensor([58.5636], device='cuda:0', grad_fn=<AddBackward0>)\n",
            "None\n",
            "tensor([57.7403], device='cuda:0', grad_fn=<AddBackward0>)\n",
            "None\n",
            "tensor([59.8266], device='cuda:0', grad_fn=<AddBackward0>)\n",
            "None\n",
            "tensor([59.7443], device='cuda:0', grad_fn=<AddBackward0>)\n",
            "None\n",
            "tensor([59.4696], device='cuda:0', grad_fn=<AddBackward0>)\n",
            "None\n",
            "tensor([58.3610], device='cuda:0', grad_fn=<AddBackward0>)\n",
            "None\n",
            "tensor([59.8623], device='cuda:0', grad_fn=<AddBackward0>)\n",
            "None\n",
            "tensor([58.4464], device='cuda:0', grad_fn=<AddBackward0>)\n",
            "None\n",
            "tensor([58.6422], device='cuda:0', grad_fn=<AddBackward0>)\n",
            "None\n",
            "tensor([59.3431], device='cuda:0', grad_fn=<AddBackward0>)\n",
            "None\n",
            "tensor([59.6316], device='cuda:0', grad_fn=<AddBackward0>)\n",
            "None\n",
            "tensor([58.7007], device='cuda:0', grad_fn=<AddBackward0>)\n",
            "None\n",
            "tensor([59.3051], device='cuda:0', grad_fn=<AddBackward0>)\n",
            "None\n",
            "tensor([59.7561], device='cuda:0', grad_fn=<AddBackward0>)\n",
            "None\n",
            "tensor([58.8625], device='cuda:0', grad_fn=<AddBackward0>)\n",
            "None\n",
            "tensor([58.8099], device='cuda:0', grad_fn=<AddBackward0>)\n",
            "None\n",
            "tensor([59.4361], device='cuda:0', grad_fn=<AddBackward0>)\n",
            "None\n",
            "tensor([58.9734], device='cuda:0', grad_fn=<AddBackward0>)\n",
            "None\n",
            "tensor([59.0030], device='cuda:0', grad_fn=<AddBackward0>)\n",
            "None\n",
            "tensor([59.7810], device='cuda:0', grad_fn=<AddBackward0>)\n",
            "Epoch 0, Iteration 400\n",
            "Train Set Loss: 59.78\n",
            "Test Set Loss: 60.61\n",
            "Train set accuracy for a single minibatch: 9.38%\n",
            "Test set accuracy for a single minibatch: 10.94%\n",
            "\n",
            "\n",
            "None\n",
            "tensor([58.9701], device='cuda:0', grad_fn=<AddBackward0>)\n",
            "None\n",
            "tensor([59.5928], device='cuda:0', grad_fn=<AddBackward0>)\n",
            "None\n",
            "tensor([59.8578], device='cuda:0', grad_fn=<AddBackward0>)\n",
            "None\n",
            "tensor([59.0932], device='cuda:0', grad_fn=<AddBackward0>)\n",
            "None\n",
            "tensor([60.3689], device='cuda:0', grad_fn=<AddBackward0>)\n",
            "None\n",
            "tensor([60.3357], device='cuda:0', grad_fn=<AddBackward0>)\n",
            "None\n",
            "tensor([59.1796], device='cuda:0', grad_fn=<AddBackward0>)\n",
            "None\n",
            "tensor([59.0183], device='cuda:0', grad_fn=<AddBackward0>)\n",
            "None\n",
            "tensor([59.3652], device='cuda:0', grad_fn=<AddBackward0>)\n",
            "None\n",
            "tensor([59.6484], device='cuda:0', grad_fn=<AddBackward0>)\n",
            "None\n",
            "tensor([59.0590], device='cuda:0', grad_fn=<AddBackward0>)\n",
            "None\n",
            "tensor([59.2301], device='cuda:0', grad_fn=<AddBackward0>)\n",
            "None\n",
            "tensor([61.0801], device='cuda:0', grad_fn=<AddBackward0>)\n",
            "None\n",
            "tensor([58.5234], device='cuda:0', grad_fn=<AddBackward0>)\n",
            "None\n",
            "tensor([58.3412], device='cuda:0', grad_fn=<AddBackward0>)\n",
            "None\n",
            "tensor([58.1915], device='cuda:0', grad_fn=<AddBackward0>)\n",
            "None\n",
            "tensor([60.2444], device='cuda:0', grad_fn=<AddBackward0>)\n",
            "None\n",
            "tensor([59.5894], device='cuda:0', grad_fn=<AddBackward0>)\n",
            "None\n",
            "tensor([59.2598], device='cuda:0', grad_fn=<AddBackward0>)\n",
            "None\n",
            "tensor([59.5808], device='cuda:0', grad_fn=<AddBackward0>)\n",
            "None\n",
            "tensor([59.6999], device='cuda:0', grad_fn=<AddBackward0>)\n",
            "None\n",
            "tensor([59.8529], device='cuda:0', grad_fn=<AddBackward0>)\n",
            "None\n",
            "tensor([58.5723], device='cuda:0', grad_fn=<AddBackward0>)\n",
            "None\n",
            "tensor([60.3436], device='cuda:0', grad_fn=<AddBackward0>)\n",
            "None\n",
            "tensor([60.9679], device='cuda:0', grad_fn=<AddBackward0>)\n",
            "None\n",
            "tensor([59.8971], device='cuda:0', grad_fn=<AddBackward0>)\n",
            "None\n",
            "tensor([58.2584], device='cuda:0', grad_fn=<AddBackward0>)\n",
            "None\n",
            "tensor([57.7959], device='cuda:0', grad_fn=<AddBackward0>)\n"
          ]
        },
        {
          "ename": "KeyboardInterrupt",
          "evalue": "",
          "output_type": "error",
          "traceback": [
            "\u001b[1;31m---------------------------------------------------------------------------\u001b[0m",
            "\u001b[1;31mKeyboardInterrupt\u001b[0m                         Traceback (most recent call last)",
            "\u001b[1;32mc:\\Users\\MON PC\\Documents\\code\\python\\reading_sessions_test\\snntorch\\examples\\tutorial_5_FCN.ipynb Cellule 50\u001b[0m in \u001b[0;36m<cell line: 7>\u001b[1;34m()\u001b[0m\n\u001b[0;32m      <a href='vscode-notebook-cell:/c%3A/Users/MON%20PC/Documents/code/python/reading_sessions_test/snntorch/examples/tutorial_5_FCN.ipynb#Y100sZmlsZQ%3D%3D?line=8'>9</a>\u001b[0m train_batch \u001b[39m=\u001b[39m \u001b[39miter\u001b[39m(train_loader)\n\u001b[0;32m     <a href='vscode-notebook-cell:/c%3A/Users/MON%20PC/Documents/code/python/reading_sessions_test/snntorch/examples/tutorial_5_FCN.ipynb#Y100sZmlsZQ%3D%3D?line=10'>11</a>\u001b[0m \u001b[39m# Minibatch training loop\u001b[39;00m\n\u001b[1;32m---> <a href='vscode-notebook-cell:/c%3A/Users/MON%20PC/Documents/code/python/reading_sessions_test/snntorch/examples/tutorial_5_FCN.ipynb#Y100sZmlsZQ%3D%3D?line=11'>12</a>\u001b[0m \u001b[39mfor\u001b[39;00m data, targets \u001b[39min\u001b[39;00m train_batch:\n\u001b[0;32m     <a href='vscode-notebook-cell:/c%3A/Users/MON%20PC/Documents/code/python/reading_sessions_test/snntorch/examples/tutorial_5_FCN.ipynb#Y100sZmlsZQ%3D%3D?line=12'>13</a>\u001b[0m     data \u001b[39m=\u001b[39m data\u001b[39m.\u001b[39mto(device)\n\u001b[0;32m     <a href='vscode-notebook-cell:/c%3A/Users/MON%20PC/Documents/code/python/reading_sessions_test/snntorch/examples/tutorial_5_FCN.ipynb#Y100sZmlsZQ%3D%3D?line=13'>14</a>\u001b[0m     targets \u001b[39m=\u001b[39m targets\u001b[39m.\u001b[39mto(device)\n",
            "File \u001b[1;32m~\\AppData\\Roaming\\Python\\Python310\\site-packages\\torch\\utils\\data\\dataloader.py:530\u001b[0m, in \u001b[0;36m_BaseDataLoaderIter.__next__\u001b[1;34m(self)\u001b[0m\n\u001b[0;32m    528\u001b[0m \u001b[39mif\u001b[39;00m \u001b[39mself\u001b[39m\u001b[39m.\u001b[39m_sampler_iter \u001b[39mis\u001b[39;00m \u001b[39mNone\u001b[39;00m:\n\u001b[0;32m    529\u001b[0m     \u001b[39mself\u001b[39m\u001b[39m.\u001b[39m_reset()\n\u001b[1;32m--> 530\u001b[0m data \u001b[39m=\u001b[39m \u001b[39mself\u001b[39;49m\u001b[39m.\u001b[39;49m_next_data()\n\u001b[0;32m    531\u001b[0m \u001b[39mself\u001b[39m\u001b[39m.\u001b[39m_num_yielded \u001b[39m+\u001b[39m\u001b[39m=\u001b[39m \u001b[39m1\u001b[39m\n\u001b[0;32m    532\u001b[0m \u001b[39mif\u001b[39;00m \u001b[39mself\u001b[39m\u001b[39m.\u001b[39m_dataset_kind \u001b[39m==\u001b[39m _DatasetKind\u001b[39m.\u001b[39mIterable \u001b[39mand\u001b[39;00m \\\n\u001b[0;32m    533\u001b[0m         \u001b[39mself\u001b[39m\u001b[39m.\u001b[39m_IterableDataset_len_called \u001b[39mis\u001b[39;00m \u001b[39mnot\u001b[39;00m \u001b[39mNone\u001b[39;00m \u001b[39mand\u001b[39;00m \\\n\u001b[0;32m    534\u001b[0m         \u001b[39mself\u001b[39m\u001b[39m.\u001b[39m_num_yielded \u001b[39m>\u001b[39m \u001b[39mself\u001b[39m\u001b[39m.\u001b[39m_IterableDataset_len_called:\n",
            "File \u001b[1;32m~\\AppData\\Roaming\\Python\\Python310\\site-packages\\torch\\utils\\data\\dataloader.py:570\u001b[0m, in \u001b[0;36m_SingleProcessDataLoaderIter._next_data\u001b[1;34m(self)\u001b[0m\n\u001b[0;32m    568\u001b[0m \u001b[39mdef\u001b[39;00m \u001b[39m_next_data\u001b[39m(\u001b[39mself\u001b[39m):\n\u001b[0;32m    569\u001b[0m     index \u001b[39m=\u001b[39m \u001b[39mself\u001b[39m\u001b[39m.\u001b[39m_next_index()  \u001b[39m# may raise StopIteration\u001b[39;00m\n\u001b[1;32m--> 570\u001b[0m     data \u001b[39m=\u001b[39m \u001b[39mself\u001b[39;49m\u001b[39m.\u001b[39;49m_dataset_fetcher\u001b[39m.\u001b[39;49mfetch(index)  \u001b[39m# may raise StopIteration\u001b[39;00m\n\u001b[0;32m    571\u001b[0m     \u001b[39mif\u001b[39;00m \u001b[39mself\u001b[39m\u001b[39m.\u001b[39m_pin_memory:\n\u001b[0;32m    572\u001b[0m         data \u001b[39m=\u001b[39m _utils\u001b[39m.\u001b[39mpin_memory\u001b[39m.\u001b[39mpin_memory(data)\n",
            "File \u001b[1;32m~\\AppData\\Roaming\\Python\\Python310\\site-packages\\torch\\utils\\data\\_utils\\fetch.py:49\u001b[0m, in \u001b[0;36m_MapDatasetFetcher.fetch\u001b[1;34m(self, possibly_batched_index)\u001b[0m\n\u001b[0;32m     47\u001b[0m \u001b[39mdef\u001b[39;00m \u001b[39mfetch\u001b[39m(\u001b[39mself\u001b[39m, possibly_batched_index):\n\u001b[0;32m     48\u001b[0m     \u001b[39mif\u001b[39;00m \u001b[39mself\u001b[39m\u001b[39m.\u001b[39mauto_collation:\n\u001b[1;32m---> 49\u001b[0m         data \u001b[39m=\u001b[39m [\u001b[39mself\u001b[39m\u001b[39m.\u001b[39mdataset[idx] \u001b[39mfor\u001b[39;00m idx \u001b[39min\u001b[39;00m possibly_batched_index]\n\u001b[0;32m     50\u001b[0m     \u001b[39melse\u001b[39;00m:\n\u001b[0;32m     51\u001b[0m         data \u001b[39m=\u001b[39m \u001b[39mself\u001b[39m\u001b[39m.\u001b[39mdataset[possibly_batched_index]\n",
            "File \u001b[1;32m~\\AppData\\Roaming\\Python\\Python310\\site-packages\\torch\\utils\\data\\_utils\\fetch.py:49\u001b[0m, in \u001b[0;36m<listcomp>\u001b[1;34m(.0)\u001b[0m\n\u001b[0;32m     47\u001b[0m \u001b[39mdef\u001b[39;00m \u001b[39mfetch\u001b[39m(\u001b[39mself\u001b[39m, possibly_batched_index):\n\u001b[0;32m     48\u001b[0m     \u001b[39mif\u001b[39;00m \u001b[39mself\u001b[39m\u001b[39m.\u001b[39mauto_collation:\n\u001b[1;32m---> 49\u001b[0m         data \u001b[39m=\u001b[39m [\u001b[39mself\u001b[39;49m\u001b[39m.\u001b[39;49mdataset[idx] \u001b[39mfor\u001b[39;00m idx \u001b[39min\u001b[39;00m possibly_batched_index]\n\u001b[0;32m     50\u001b[0m     \u001b[39melse\u001b[39;00m:\n\u001b[0;32m     51\u001b[0m         data \u001b[39m=\u001b[39m \u001b[39mself\u001b[39m\u001b[39m.\u001b[39mdataset[possibly_batched_index]\n",
            "File \u001b[1;32m~\\AppData\\Roaming\\Python\\Python310\\site-packages\\torchvision\\datasets\\mnist.py:145\u001b[0m, in \u001b[0;36mMNIST.__getitem__\u001b[1;34m(self, index)\u001b[0m\n\u001b[0;32m    142\u001b[0m img \u001b[39m=\u001b[39m Image\u001b[39m.\u001b[39mfromarray(img\u001b[39m.\u001b[39mnumpy(), mode\u001b[39m=\u001b[39m\u001b[39m\"\u001b[39m\u001b[39mL\u001b[39m\u001b[39m\"\u001b[39m)\n\u001b[0;32m    144\u001b[0m \u001b[39mif\u001b[39;00m \u001b[39mself\u001b[39m\u001b[39m.\u001b[39mtransform \u001b[39mis\u001b[39;00m \u001b[39mnot\u001b[39;00m \u001b[39mNone\u001b[39;00m:\n\u001b[1;32m--> 145\u001b[0m     img \u001b[39m=\u001b[39m \u001b[39mself\u001b[39;49m\u001b[39m.\u001b[39;49mtransform(img)\n\u001b[0;32m    147\u001b[0m \u001b[39mif\u001b[39;00m \u001b[39mself\u001b[39m\u001b[39m.\u001b[39mtarget_transform \u001b[39mis\u001b[39;00m \u001b[39mnot\u001b[39;00m \u001b[39mNone\u001b[39;00m:\n\u001b[0;32m    148\u001b[0m     target \u001b[39m=\u001b[39m \u001b[39mself\u001b[39m\u001b[39m.\u001b[39mtarget_transform(target)\n",
            "File \u001b[1;32m~\\AppData\\Roaming\\Python\\Python310\\site-packages\\torchvision\\transforms\\transforms.py:95\u001b[0m, in \u001b[0;36mCompose.__call__\u001b[1;34m(self, img)\u001b[0m\n\u001b[0;32m     93\u001b[0m \u001b[39mdef\u001b[39;00m \u001b[39m__call__\u001b[39m(\u001b[39mself\u001b[39m, img):\n\u001b[0;32m     94\u001b[0m     \u001b[39mfor\u001b[39;00m t \u001b[39min\u001b[39;00m \u001b[39mself\u001b[39m\u001b[39m.\u001b[39mtransforms:\n\u001b[1;32m---> 95\u001b[0m         img \u001b[39m=\u001b[39m t(img)\n\u001b[0;32m     96\u001b[0m     \u001b[39mreturn\u001b[39;00m img\n",
            "File \u001b[1;32m~\\AppData\\Roaming\\Python\\Python310\\site-packages\\torchvision\\transforms\\transforms.py:135\u001b[0m, in \u001b[0;36mToTensor.__call__\u001b[1;34m(self, pic)\u001b[0m\n\u001b[0;32m    127\u001b[0m \u001b[39mdef\u001b[39;00m \u001b[39m__call__\u001b[39m(\u001b[39mself\u001b[39m, pic):\n\u001b[0;32m    128\u001b[0m     \u001b[39m\"\"\"\u001b[39;00m\n\u001b[0;32m    129\u001b[0m \u001b[39m    Args:\u001b[39;00m\n\u001b[0;32m    130\u001b[0m \u001b[39m        pic (PIL Image or numpy.ndarray): Image to be converted to tensor.\u001b[39;00m\n\u001b[1;32m   (...)\u001b[0m\n\u001b[0;32m    133\u001b[0m \u001b[39m        Tensor: Converted image.\u001b[39;00m\n\u001b[0;32m    134\u001b[0m \u001b[39m    \"\"\"\u001b[39;00m\n\u001b[1;32m--> 135\u001b[0m     \u001b[39mreturn\u001b[39;00m F\u001b[39m.\u001b[39;49mto_tensor(pic)\n",
            "File \u001b[1;32m~\\AppData\\Roaming\\Python\\Python310\\site-packages\\torchvision\\transforms\\functional.py:155\u001b[0m, in \u001b[0;36mto_tensor\u001b[1;34m(pic)\u001b[0m\n\u001b[0;32m    153\u001b[0m img \u001b[39m=\u001b[39m img\u001b[39m.\u001b[39mpermute((\u001b[39m2\u001b[39m, \u001b[39m0\u001b[39m, \u001b[39m1\u001b[39m))\u001b[39m.\u001b[39mcontiguous()\n\u001b[0;32m    154\u001b[0m \u001b[39mif\u001b[39;00m \u001b[39misinstance\u001b[39m(img, torch\u001b[39m.\u001b[39mByteTensor):\n\u001b[1;32m--> 155\u001b[0m     \u001b[39mreturn\u001b[39;00m img\u001b[39m.\u001b[39;49mto(dtype\u001b[39m=\u001b[39;49mdefault_float_dtype)\u001b[39m.\u001b[39;49mdiv(\u001b[39m255\u001b[39;49m)\n\u001b[0;32m    156\u001b[0m \u001b[39melse\u001b[39;00m:\n\u001b[0;32m    157\u001b[0m     \u001b[39mreturn\u001b[39;00m img\n",
            "\u001b[1;31mKeyboardInterrupt\u001b[0m: "
          ]
        }
      ],
      "source": [
        "num_epochs = 1\n",
        "loss_hist = []\n",
        "test_loss_hist = []\n",
        "counter = 0\n",
        "\n",
        "# Outer training loop\n",
        "for epoch in range(num_epochs):\n",
        "    iter_counter = 0\n",
        "    train_batch = iter(train_loader)\n",
        "\n",
        "    # Minibatch training loop\n",
        "    for data, targets in train_batch:\n",
        "        data = data.to(device)\n",
        "        targets = targets.to(device)\n",
        "\n",
        "        # forward pass\n",
        "        net.train()\n",
        "        spk_rec, mem_rec = forward_pass(net,num_steps,data)\n",
        "\n",
        "        # initialize the loss & sum over time\n",
        "        loss_val = torch.zeros((1), dtype=dtype, device=device)\n",
        "        for step in range(num_steps):\n",
        "            loss_val += loss(mem_rec[step], targets)\n",
        "\n",
        "        # Gradient calculation + weight update\n",
        "        optimizer.zero_grad()\n",
        "        #print(loss_val)\n",
        "        loss_val.backward()\n",
        "        print(loss_val.grad)\n",
        "        print(loss_val)\n",
        "        optimizer.step()\n",
        "\n",
        "        # Store loss history for future plotting\n",
        "        loss_hist.append(loss_val.item())\n",
        "\n",
        "        # Test set\n",
        "        with torch.no_grad():\n",
        "            net.eval()\n",
        "            test_data, test_targets = next(iter(test_loader))\n",
        "            test_data = test_data.to(device)\n",
        "            test_targets = test_targets.to(device)\n",
        "\n",
        "            # Test set forward pass\n",
        "            test_spk, test_mem = forward_pass(net,num_steps,test_data)\n",
        "\n",
        "            # Test set loss\n",
        "            test_loss = torch.zeros((1), dtype=dtype, device=device)\n",
        "            for step in range(num_steps):\n",
        "                test_loss += loss(test_mem[step], test_targets)\n",
        "            test_loss_hist.append(test_loss.item())\n",
        "\n",
        "            # Print train/test loss/accuracy\n",
        "            if counter % 50 == 0:\n",
        "                train_printer(\n",
        "                    data, targets, epoch,\n",
        "                    counter, iter_counter,\n",
        "                    loss_hist, test_loss_hist,\n",
        "                    test_data, test_targets)\n",
        "            counter += 1\n",
        "            iter_counter +=1"
      ]
    },
    {
      "cell_type": "markdown",
      "metadata": {
        "id": "Taf6WZLojHTz"
      },
      "source": [
        "If this was your first time training an SNN, then congratulations!"
      ]
    },
    {
      "cell_type": "markdown",
      "metadata": {
        "collapsed": false,
        "id": "HxU7P7xFpko3",
        "pycharm": {
          "name": "#%% md\n"
        }
      },
      "source": [
        "# 8. Results\n",
        "## 8.1 Plot Training/Test Loss"
      ]
    },
    {
      "cell_type": "code",
      "execution_count": null,
      "metadata": {
        "id": "_Pk_EScnpkpj",
        "pycharm": {
          "name": "#%%\n"
        }
      },
      "outputs": [],
      "source": [
        "# Plot Loss\n",
        "fig = plt.figure(facecolor=\"w\", figsize=(10, 5))\n",
        "plt.plot(loss_hist)\n",
        "plt.plot(test_loss_hist)\n",
        "plt.title(\"Loss Curves\")\n",
        "plt.legend([\"Train Loss\", \"Test Loss\"])\n",
        "plt.xlabel(\"Iteration\")\n",
        "plt.ylabel(\"Loss\")\n",
        "plt.show()"
      ]
    },
    {
      "cell_type": "markdown",
      "metadata": {
        "id": "g-Gd84OAl1rB"
      },
      "source": [
        "The loss curves are noisy because the losses are tracked at every iteration, rather than averaging across multiple iterations. "
      ]
    },
    {
      "cell_type": "markdown",
      "metadata": {
        "collapsed": false,
        "id": "Z3f0vBnBpkpk",
        "pycharm": {
          "name": "#%% md\n"
        }
      },
      "source": [
        "## 8.2 Test Set Accuracy\n",
        "This function iterates over all minibatches to obtain a measure of accuracy over the full 10,000 samples in the test set."
      ]
    },
    {
      "cell_type": "code",
      "execution_count": null,
      "metadata": {
        "id": "F5Rb4xHGndQh"
      },
      "outputs": [],
      "source": [
        "total = 0\n",
        "correct = 0\n",
        "\n",
        "# drop_last switched to False to keep all samples\n",
        "test_loader = DataLoader(mnist_test, batch_size=batch_size, shuffle=True, drop_last=False)\n",
        "\n",
        "with torch.no_grad():\n",
        "  net.eval()\n",
        "  for data, targets in test_loader:\n",
        "    data = data.to(device)\n",
        "    targets = targets.to(device)\n",
        "    \n",
        "    # forward pass\n",
        "    test_spk, _ = net(data.view(data.size(0), -1))\n",
        "\n",
        "    # calculate total accuracy\n",
        "    _, predicted = test_spk.sum(dim=0).max(1)\n",
        "    total += targets.size(0)\n",
        "    correct += (predicted == targets).sum().item()\n",
        "\n",
        "print(f\"Total correctly classified test set images: {correct}/{total}\")\n",
        "print(f\"Test Set Accuracy: {100 * correct / total:.2f}%\")"
      ]
    },
    {
      "cell_type": "markdown",
      "metadata": {
        "collapsed": false,
        "id": "TBIXau4Zpkpl",
        "pycharm": {
          "name": "#%% md\n"
        }
      },
      "source": [
        "Voila! That's it for static MNIST. Feel free to tweak the network parameters, hyperparameters, decay rate, using a learning rate scheduler etc. to see if you can improve the network performance. "
      ]
    },
    {
      "cell_type": "markdown",
      "metadata": {
        "id": "s0dAgWUt2o6E"
      },
      "source": [
        "# Conclusion\n",
        "Now you know how to construct and train a fully-connected network on a static dataset. The spiking neurons can also be adapted to other layer types, including convolutions and skip connections. Armed with this knowledge, you should now be able to build many different types of SNNs. [In the next tutorial](https://snntorch.readthedocs.io/en/latest/tutorials/index.html), you will learn how to train a spiking convolutional network, and simplify the amount of code required using the `snn.backprop` module.\n",
        "\n",
        "Also, a special thanks to Bugra Kaytanli for providing valuable feedback on the tutorial.\n",
        "\n",
        "If you like this project, please consider starring ⭐ the repo on GitHub as it is the easiest and best way to support it.\n"
      ]
    },
    {
      "cell_type": "markdown",
      "metadata": {},
      "source": [
        "# Additional Resources\n",
        "\n",
        "* [Check out the snnTorch GitHub project here.](https://github.com/jeshraghian/snntorch)"
      ]
    }
  ],
  "metadata": {
    "accelerator": "GPU",
    "colab": {
      "include_colab_link": true,
      "name": "Copy of tutorial_2_FCN_truncatedfromscratch.ipynb",
      "provenance": []
    },
    "kernelspec": {
      "display_name": "Python 3.10.4 64-bit",
      "language": "python",
      "name": "python3"
    },
    "language_info": {
      "codemirror_mode": {
        "name": "ipython",
        "version": 3
      },
      "file_extension": ".py",
      "mimetype": "text/x-python",
      "name": "python",
      "nbconvert_exporter": "python",
      "pygments_lexer": "ipython3",
      "version": "3.10.4"
    },
    "vscode": {
      "interpreter": {
        "hash": "26de051ba29f2982a8de78e945f0abaf191376122a1563185a90213a26c5da77"
      }
    }
  },
  "nbformat": 4,
  "nbformat_minor": 2
}
