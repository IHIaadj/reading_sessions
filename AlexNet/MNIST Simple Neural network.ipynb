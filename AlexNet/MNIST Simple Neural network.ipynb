{
 "cells": [
  {
   "cell_type": "markdown",
   "metadata": {},
   "source": [
    "## The MNIST Dataset"
   ]
  },
  {
   "cell_type": "markdown",
   "metadata": {},
   "source": [
    "MNIST dataset is a collection of 70,000 grayscale images of handwritten digits from 0 to 9. The problem is to classify these images into the correct digit. \n",
    "\n",
    "![images/mnist_classification.png](images/mnist_classification.png)\n"
   ]
  },
  {
   "cell_type": "markdown",
   "metadata": {},
   "source": [
    "## Training & Validation Datasets\n",
    "When working with images for deep learning, we need both the images themselves, usually denoted as `X`, and also, correct [labels](https://developers.google.com/machine-learning/glossary#label) for these images, usually denoted as `Y`. Furthermore, we need `X` and `Y` values both for *training* the model, and then, a separate set of `X` and `Y` values for *validating* the performance of the model after it has been trained.\n",
    "\n",
    "We'll load the MNIST Data. "
   ]
  },
  {
   "cell_type": "code",
   "execution_count": 1,
   "metadata": {},
   "outputs": [
    {
     "name": "stdout",
     "output_type": "stream",
     "text": [
      "cuda:0\n"
     ]
    }
   ],
   "source": [
    "import pandas as pd\n",
    "import numpy as np\n",
    "import matplotlib.pyplot as plt\n",
    "\n",
    "import torch\n",
    "from torch import nn, optim\n",
    "from torchvision import datasets, transforms\n",
    "import torch.nn.functional as F\n",
    "from torch.autograd import Variable\n",
    "\n",
    "device = torch.device(\"cuda:0\" if torch.cuda.is_available() else \"cpu\")\n",
    "print(device)"
   ]
  },
  {
   "cell_type": "code",
   "execution_count": 3,
   "metadata": {},
   "outputs": [
    {
     "name": "stdout",
     "output_type": "stream",
     "text": [
      "Downloading http://yann.lecun.com/exdb/mnist/train-images-idx3-ubyte.gz to ./data/MNIST/raw/train-images-idx3-ubyte.gz\n"
     ]
    },
    {
     "data": {
      "application/vnd.jupyter.widget-view+json": {
       "model_id": "904f053b9b974719b0a5598e363a1e89",
       "version_major": 2,
       "version_minor": 0
      },
      "text/plain": [
       "HBox(children=(FloatProgress(value=1.0, bar_style='info', max=1.0), HTML(value='')))"
      ]
     },
     "metadata": {},
     "output_type": "display_data"
    },
    {
     "name": "stdout",
     "output_type": "stream",
     "text": [
      "Extracting ./data/MNIST/raw/train-images-idx3-ubyte.gz to ./data/MNIST/raw\n",
      "Downloading http://yann.lecun.com/exdb/mnist/train-labels-idx1-ubyte.gz to ./data/MNIST/raw/train-labels-idx1-ubyte.gz\n"
     ]
    },
    {
     "data": {
      "application/vnd.jupyter.widget-view+json": {
       "model_id": "6981e313fb764870bcc0fc44ef9a36fb",
       "version_major": 2,
       "version_minor": 0
      },
      "text/plain": [
       "HBox(children=(FloatProgress(value=1.0, bar_style='info', max=1.0), HTML(value='')))"
      ]
     },
     "metadata": {},
     "output_type": "display_data"
    },
    {
     "name": "stdout",
     "output_type": "stream",
     "text": [
      "Extracting ./data/MNIST/raw/train-labels-idx1-ubyte.gz to ./data/MNIST/raw\n",
      "Downloading http://yann.lecun.com/exdb/mnist/t10k-images-idx3-ubyte.gz to ./data/MNIST/raw/t10k-images-idx3-ubyte.gz\n"
     ]
    },
    {
     "data": {
      "application/vnd.jupyter.widget-view+json": {
       "model_id": "c8fb3015880a4ca38c0b032e0ffc2d60",
       "version_major": 2,
       "version_minor": 0
      },
      "text/plain": [
       "HBox(children=(FloatProgress(value=1.0, bar_style='info', max=1.0), HTML(value='')))"
      ]
     },
     "metadata": {},
     "output_type": "display_data"
    },
    {
     "name": "stdout",
     "output_type": "stream",
     "text": [
      "Extracting ./data/MNIST/raw/t10k-images-idx3-ubyte.gz to ./data/MNIST/raw\n",
      "Downloading http://yann.lecun.com/exdb/mnist/t10k-labels-idx1-ubyte.gz to ./data/MNIST/raw/t10k-labels-idx1-ubyte.gz\n"
     ]
    },
    {
     "data": {
      "application/vnd.jupyter.widget-view+json": {
       "model_id": "f1441fe7a4044e52a8c6f5ffab24a9f7",
       "version_major": 2,
       "version_minor": 0
      },
      "text/plain": [
       "HBox(children=(FloatProgress(value=1.0, bar_style='info', max=1.0), HTML(value='')))"
      ]
     },
     "metadata": {},
     "output_type": "display_data"
    },
    {
     "name": "stdout",
     "output_type": "stream",
     "text": [
      "Extracting ./data/MNIST/raw/t10k-labels-idx1-ubyte.gz to ./data/MNIST/raw\n",
      "Processing...\n",
      "Done!\n"
     ]
    },
    {
     "name": "stderr",
     "output_type": "stream",
     "text": [
      "/home/hadjer/anaconda3/lib/python3.8/site-packages/torchvision/datasets/mnist.py:480: UserWarning: The given NumPy array is not writeable, and PyTorch does not support non-writeable tensors. This means you can write to the underlying (supposedly non-writeable) NumPy array using the tensor. You may want to copy the array to protect its data or make it writeable before converting it to a tensor. This type of warning will be suppressed for the rest of this program. (Triggered internally at  /pytorch/torch/csrc/utils/tensor_numpy.cpp:141.)\n",
      "  return torch.from_numpy(parsed.astype(m[2], copy=False)).view(*s)\n"
     ]
    }
   ],
   "source": [
    "batch_size = 32\n",
    "\n",
    "train_dataset = datasets.MNIST('./data', \n",
    "                               train=True, \n",
    "                               download=True, \n",
    "                               transform=transforms.ToTensor())\n",
    "\n",
    "valid_dataset = datasets.MNIST('./data', \n",
    "                                    train=False, \n",
    "                                    transform=transforms.ToTensor())\n",
    "\n",
    "train_loader = torch.utils.data.DataLoader(dataset=train_dataset, \n",
    "                                           batch_size=batch_size, \n",
    "                                           shuffle=True)\n",
    "\n",
    "valid_loader = torch.utils.data.DataLoader(dataset=valid_dataset, \n",
    "                                                batch_size=batch_size, \n",
    "                                                shuffle=False)\n",
    "\n"
   ]
  },
  {
   "cell_type": "code",
   "execution_count": 4,
   "metadata": {},
   "outputs": [
    {
     "name": "stdout",
     "output_type": "stream",
     "text": [
      "Train_dataset: 60000\n",
      "Valid_dataset: 10000\n"
     ]
    }
   ],
   "source": [
    "print('Train_dataset:', len(train_dataset))\n",
    "print('Valid_dataset:', len(valid_dataset))"
   ]
  },
  {
   "cell_type": "code",
   "execution_count": 5,
   "metadata": {},
   "outputs": [
    {
     "name": "stdout",
     "output_type": "stream",
     "text": [
      "X_train: torch.Size([32, 1, 28, 28]) type: torch.FloatTensor\n",
      "y_train: torch.Size([32]) type: torch.LongTensor\n"
     ]
    }
   ],
   "source": [
    "for (X_train, y_train) in train_loader:\n",
    "    print('X_train:', X_train.size(), 'type:', X_train.type())\n",
    "    print('y_train:', y_train.size(), 'type:', y_train.type())\n",
    "    break"
   ]
  },
  {
   "cell_type": "code",
   "execution_count": 6,
   "metadata": {},
   "outputs": [
    {
     "data": {
      "image/png": "[encoded data removed]",
      "text/plain": [
       "<Figure size 720x72 with 10 Axes>"
      ]
     },
     "metadata": {
      "needs_background": "light"
     },
     "output_type": "display_data"
    }
   ],
   "source": [
    "pltsize=1\n",
    "plt.figure(figsize=(10*pltsize, pltsize))\n",
    "\n",
    "for i in range(10):\n",
    "    plt.subplot(1,10,i+1)\n",
    "    plt.axis('off')\n",
    "    plt.imshow(X_train[i,:,:,:].numpy().reshape(28,28), cmap=\"gray\")\n",
    "    plt.title('Class: '+str(y_train[i].item()))\n"
   ]
  },
  {
   "cell_type": "markdown",
   "metadata": {},
   "source": [
    "## Model Definition\n"
   ]
  },
  {
   "cell_type": "code",
   "execution_count": 7,
   "metadata": {},
   "outputs": [
    {
     "name": "stdout",
     "output_type": "stream",
     "text": [
      "Net(\n",
      "  (fc1): Linear(in_features=784, out_features=50, bias=True)\n",
      "  (fc1_drop): Dropout(p=0.2, inplace=False)\n",
      "  (fc2): Linear(in_features=50, out_features=50, bias=True)\n",
      "  (fc2_drop): Dropout(p=0.2, inplace=False)\n",
      "  (fc3): Linear(in_features=50, out_features=10, bias=True)\n",
      ")\n"
     ]
    }
   ],
   "source": [
    "class Net(nn.Module):\n",
    "    def __init__(self):\n",
    "        super(Net, self).__init__()\n",
    "        self.fc1 = nn.Linear(28*28, 50)\n",
    "        self.fc1_drop = nn.Dropout(0.2)\n",
    "        self.fc2 = nn.Linear(50, 50)\n",
    "        self.fc2_drop = nn.Dropout(0.2)\n",
    "        self.fc3 = nn.Linear(50, 10)\n",
    "\n",
    "    def forward(self, x):\n",
    "        x = x.view(-1, 28*28) #[[1, 2, 3],[4, 5, 6]]--> [1, 2, 3, 4, 5, 6]\n",
    "        x = F.relu(self.fc1(x))\n",
    "        x = self.fc1_drop(x)\n",
    "        x = F.relu(self.fc2(x))\n",
    "        x = self.fc2_drop(x)\n",
    "        return F.log_softmax(self.fc3(x), dim=1)\n",
    "\n",
    "model = Net().to(device)\n",
    "optimizer = torch.optim.SGD(model.parameters(), lr=0.01, momentum=0.5)\n",
    "criterion = nn.CrossEntropyLoss()\n",
    "\n",
    "print(model)"
   ]
  },
  {
   "cell_type": "markdown",
   "metadata": {},
   "source": [
    "## Training "
   ]
  },
  {
   "cell_type": "code",
   "execution_count": 8,
   "metadata": {},
   "outputs": [],
   "source": [
    "def train(epoch, log_interval=200):\n",
    "    # Set model to training mode\n",
    "    model.train()\n",
    "    \n",
    "    # Loop over each batch from the training set\n",
    "    for batch_idx, (data, target) in enumerate(train_loader):\n",
    "        # Copy data to GPU if needed\n",
    "        data = data.to(device)\n",
    "        target = target.to(device)\n",
    "\n",
    "        # Zero gradient buffers\n",
    "        optimizer.zero_grad() \n",
    "        \n",
    "        # Pass data through the network\n",
    "        output = model(data)\n",
    "\n",
    "        # Calculate loss\n",
    "        loss = criterion(output, target)\n",
    "\n",
    "        # Backpropagate\n",
    "        loss.backward()\n",
    "        \n",
    "        # Update weights\n",
    "        optimizer.step()\n",
    "        \n",
    "        if batch_idx % log_interval == 0:\n",
    "            print('Train Epoch: {} [{}/{} ({:.0f}%)]\\tLoss: {:.6f}'.format(\n",
    "                epoch, batch_idx * len(data), len(train_loader.dataset),\n",
    "                100. * batch_idx / len(train_loader), loss.data.item()))\n",
    "\n"
   ]
  },
  {
   "cell_type": "code",
   "execution_count": 9,
   "metadata": {},
   "outputs": [],
   "source": [
    "def validate(loss_vector, accuracy_vector):\n",
    "    model.eval()\n",
    "    val_loss, correct = 0, 0\n",
    "    for data, target in valid_loader:\n",
    "        data = data.to(device)\n",
    "        target = target.to(device)\n",
    "        output = model(data)\n",
    "        val_loss += criterion(output, target).data.item()\n",
    "        pred = output.data.max(1)[1] # get the index of the max log-probability\n",
    "        correct += pred.eq(target.data).cpu().sum()\n",
    "\n",
    "    val_loss /= len(valid_loader)\n",
    "    loss_vector.append(val_loss)\n",
    "\n",
    "    accuracy = 100. * correct.to(torch.float32) / len(valid_loader.dataset)\n",
    "    accuracy_vector.append(accuracy)\n",
    "    \n",
    "    print('\\nValidation set: Average loss: {:.4f}, Accuracy: {}/{} ({:.0f}%)\\n'.format(\n",
    "        val_loss, correct, len(valid_loader.dataset), accuracy))\n",
    "\n"
   ]
  },
  {
   "cell_type": "code",
   "execution_count": 10,
   "metadata": {},
   "outputs": [
    {
     "name": "stdout",
     "output_type": "stream",
     "text": [
      "Train Epoch: 1 [0/60000 (0%)]\tLoss: 2.301110\n",
      "Train Epoch: 1 [6400/60000 (11%)]\tLoss: 2.098811\n",
      "Train Epoch: 1 [12800/60000 (21%)]\tLoss: 1.208703\n",
      "Train Epoch: 1 [19200/60000 (32%)]\tLoss: 0.808817\n",
      "Train Epoch: 1 [25600/60000 (43%)]\tLoss: 0.718957\n",
      "Train Epoch: 1 [32000/60000 (53%)]\tLoss: 0.613073\n",
      "Train Epoch: 1 [38400/60000 (64%)]\tLoss: 0.649049\n",
      "Train Epoch: 1 [44800/60000 (75%)]\tLoss: 0.500644\n",
      "Train Epoch: 1 [51200/60000 (85%)]\tLoss: 0.389898\n",
      "Train Epoch: 1 [57600/60000 (96%)]\tLoss: 0.526291\n",
      "\n",
      "Validation set: Average loss: 0.3554, Accuracy: 8986/10000 (90%)\n",
      "\n",
      "Train Epoch: 2 [0/60000 (0%)]\tLoss: 0.762522\n",
      "Train Epoch: 2 [6400/60000 (11%)]\tLoss: 0.351822\n",
      "Train Epoch: 2 [12800/60000 (21%)]\tLoss: 0.529467\n",
      "Train Epoch: 2 [19200/60000 (32%)]\tLoss: 0.285216\n",
      "Train Epoch: 2 [25600/60000 (43%)]\tLoss: 0.485721\n",
      "Train Epoch: 2 [32000/60000 (53%)]\tLoss: 0.343703\n",
      "Train Epoch: 2 [38400/60000 (64%)]\tLoss: 0.582956\n",
      "Train Epoch: 2 [44800/60000 (75%)]\tLoss: 0.391690\n",
      "Train Epoch: 2 [51200/60000 (85%)]\tLoss: 0.370511\n",
      "Train Epoch: 2 [57600/60000 (96%)]\tLoss: 0.345672\n",
      "\n",
      "Validation set: Average loss: 0.2610, Accuracy: 9248/10000 (92%)\n",
      "\n",
      "Train Epoch: 3 [0/60000 (0%)]\tLoss: 0.133919\n",
      "Train Epoch: 3 [6400/60000 (11%)]\tLoss: 0.625890\n",
      "Train Epoch: 3 [12800/60000 (21%)]\tLoss: 0.159901\n",
      "Train Epoch: 3 [19200/60000 (32%)]\tLoss: 0.297777\n",
      "Train Epoch: 3 [25600/60000 (43%)]\tLoss: 0.234656\n",
      "Train Epoch: 3 [32000/60000 (53%)]\tLoss: 0.292180\n",
      "Train Epoch: 3 [38400/60000 (64%)]\tLoss: 0.358079\n",
      "Train Epoch: 3 [44800/60000 (75%)]\tLoss: 0.463916\n",
      "Train Epoch: 3 [51200/60000 (85%)]\tLoss: 0.442459\n",
      "Train Epoch: 3 [57600/60000 (96%)]\tLoss: 0.394267\n",
      "\n",
      "Validation set: Average loss: 0.2163, Accuracy: 9344/10000 (93%)\n",
      "\n",
      "Train Epoch: 4 [0/60000 (0%)]\tLoss: 0.197260\n",
      "Train Epoch: 4 [6400/60000 (11%)]\tLoss: 0.266052\n",
      "Train Epoch: 4 [12800/60000 (21%)]\tLoss: 0.222441\n",
      "Train Epoch: 4 [19200/60000 (32%)]\tLoss: 0.250872\n",
      "Train Epoch: 4 [25600/60000 (43%)]\tLoss: 0.427852\n",
      "Train Epoch: 4 [32000/60000 (53%)]\tLoss: 0.327546\n",
      "Train Epoch: 4 [38400/60000 (64%)]\tLoss: 0.242309\n",
      "Train Epoch: 4 [44800/60000 (75%)]\tLoss: 0.392797\n",
      "Train Epoch: 4 [51200/60000 (85%)]\tLoss: 0.195873\n",
      "Train Epoch: 4 [57600/60000 (96%)]\tLoss: 0.138547\n",
      "\n",
      "Validation set: Average loss: 0.1847, Accuracy: 9456/10000 (95%)\n",
      "\n",
      "Train Epoch: 5 [0/60000 (0%)]\tLoss: 0.105276\n",
      "Train Epoch: 5 [6400/60000 (11%)]\tLoss: 0.829063\n",
      "Train Epoch: 5 [12800/60000 (21%)]\tLoss: 0.213179\n",
      "Train Epoch: 5 [19200/60000 (32%)]\tLoss: 0.200821\n",
      "Train Epoch: 5 [25600/60000 (43%)]\tLoss: 0.293743\n",
      "Train Epoch: 5 [32000/60000 (53%)]\tLoss: 0.228017\n",
      "Train Epoch: 5 [38400/60000 (64%)]\tLoss: 0.329166\n",
      "Train Epoch: 5 [44800/60000 (75%)]\tLoss: 0.186930\n",
      "Train Epoch: 5 [51200/60000 (85%)]\tLoss: 0.244117\n",
      "Train Epoch: 5 [57600/60000 (96%)]\tLoss: 0.112836\n",
      "\n",
      "Validation set: Average loss: 0.1678, Accuracy: 9495/10000 (95%)\n",
      "\n",
      "Train Epoch: 6 [0/60000 (0%)]\tLoss: 0.118891\n",
      "Train Epoch: 6 [6400/60000 (11%)]\tLoss: 0.135354\n",
      "Train Epoch: 6 [12800/60000 (21%)]\tLoss: 0.514970\n",
      "Train Epoch: 6 [19200/60000 (32%)]\tLoss: 0.159540\n",
      "Train Epoch: 6 [25600/60000 (43%)]\tLoss: 0.194056\n",
      "Train Epoch: 6 [32000/60000 (53%)]\tLoss: 0.202417\n",
      "Train Epoch: 6 [38400/60000 (64%)]\tLoss: 0.372833\n",
      "Train Epoch: 6 [44800/60000 (75%)]\tLoss: 0.217470\n",
      "Train Epoch: 6 [51200/60000 (85%)]\tLoss: 0.607551\n",
      "Train Epoch: 6 [57600/60000 (96%)]\tLoss: 0.197412\n",
      "\n",
      "Validation set: Average loss: 0.1517, Accuracy: 9549/10000 (95%)\n",
      "\n",
      "Train Epoch: 7 [0/60000 (0%)]\tLoss: 0.147477\n",
      "Train Epoch: 7 [6400/60000 (11%)]\tLoss: 0.098481\n",
      "Train Epoch: 7 [12800/60000 (21%)]\tLoss: 0.126553\n",
      "Train Epoch: 7 [19200/60000 (32%)]\tLoss: 0.252191\n",
      "Train Epoch: 7 [25600/60000 (43%)]\tLoss: 0.340708\n",
      "Train Epoch: 7 [32000/60000 (53%)]\tLoss: 0.098233\n",
      "Train Epoch: 7 [38400/60000 (64%)]\tLoss: 0.238737\n",
      "Train Epoch: 7 [44800/60000 (75%)]\tLoss: 0.064145\n",
      "Train Epoch: 7 [51200/60000 (85%)]\tLoss: 0.113059\n",
      "Train Epoch: 7 [57600/60000 (96%)]\tLoss: 0.202254\n",
      "\n",
      "Validation set: Average loss: 0.1437, Accuracy: 9571/10000 (96%)\n",
      "\n",
      "Train Epoch: 8 [0/60000 (0%)]\tLoss: 0.425708\n",
      "Train Epoch: 8 [6400/60000 (11%)]\tLoss: 0.349269\n",
      "Train Epoch: 8 [12800/60000 (21%)]\tLoss: 0.111368\n",
      "Train Epoch: 8 [19200/60000 (32%)]\tLoss: 0.118088\n",
      "Train Epoch: 8 [25600/60000 (43%)]\tLoss: 0.176291\n",
      "Train Epoch: 8 [32000/60000 (53%)]\tLoss: 0.115969\n",
      "Train Epoch: 8 [38400/60000 (64%)]\tLoss: 0.073257\n",
      "Train Epoch: 8 [44800/60000 (75%)]\tLoss: 0.274293\n",
      "Train Epoch: 8 [51200/60000 (85%)]\tLoss: 0.268445\n",
      "Train Epoch: 8 [57600/60000 (96%)]\tLoss: 0.074103\n",
      "\n",
      "Validation set: Average loss: 0.1389, Accuracy: 9588/10000 (96%)\n",
      "\n",
      "Train Epoch: 9 [0/60000 (0%)]\tLoss: 0.103716\n",
      "Train Epoch: 9 [6400/60000 (11%)]\tLoss: 0.156806\n",
      "Train Epoch: 9 [12800/60000 (21%)]\tLoss: 0.219364\n",
      "Train Epoch: 9 [19200/60000 (32%)]\tLoss: 0.275836\n",
      "Train Epoch: 9 [25600/60000 (43%)]\tLoss: 0.084402\n",
      "Train Epoch: 9 [32000/60000 (53%)]\tLoss: 0.182432\n",
      "Train Epoch: 9 [38400/60000 (64%)]\tLoss: 0.048485\n",
      "Train Epoch: 9 [44800/60000 (75%)]\tLoss: 0.233410\n",
      "Train Epoch: 9 [51200/60000 (85%)]\tLoss: 0.109578\n",
      "Train Epoch: 9 [57600/60000 (96%)]\tLoss: 0.365724\n",
      "\n",
      "Validation set: Average loss: 0.1281, Accuracy: 9623/10000 (96%)\n",
      "\n",
      "Train Epoch: 10 [0/60000 (0%)]\tLoss: 0.036693\n",
      "Train Epoch: 10 [6400/60000 (11%)]\tLoss: 0.164016\n",
      "Train Epoch: 10 [12800/60000 (21%)]\tLoss: 0.120669\n",
      "Train Epoch: 10 [19200/60000 (32%)]\tLoss: 0.029148\n",
      "Train Epoch: 10 [25600/60000 (43%)]\tLoss: 0.078555\n",
      "Train Epoch: 10 [32000/60000 (53%)]\tLoss: 0.271962\n",
      "Train Epoch: 10 [38400/60000 (64%)]\tLoss: 0.114854\n",
      "Train Epoch: 10 [44800/60000 (75%)]\tLoss: 0.053606\n",
      "Train Epoch: 10 [51200/60000 (85%)]\tLoss: 0.090719\n",
      "Train Epoch: 10 [57600/60000 (96%)]\tLoss: 0.063768\n",
      "\n",
      "Validation set: Average loss: 0.1212, Accuracy: 9638/10000 (96%)\n",
      "\n",
      "CPU times: user 1min 23s, sys: 342 ms, total: 1min 24s\n",
      "Wall time: 1min 23s\n"
     ]
    }
   ],
   "source": [
    "%%time\n",
    "epochs = 10\n",
    "\n",
    "lossv, accv = [], []\n",
    "for epoch in range(1, epochs + 1):\n",
    "    train(epoch)\n",
    "    validate(lossv, accv)"
   ]
  },
  {
   "cell_type": "code",
   "execution_count": 11,
   "metadata": {},
   "outputs": [
    {
     "data": {
      "text/plain": [
       "Text(0.5, 1.0, 'validation accuracy')"
      ]
     },
     "execution_count": 11,
     "metadata": {},
     "output_type": "execute_result"
    },
    {
     "data": {
      "image/png": "[encoded data removed]",
      "text/plain": [
       "<Figure size 360x216 with 1 Axes>"
      ]
     },
     "metadata": {
      "needs_background": "light"
     },
     "output_type": "display_data"
    },
    {
     "data": {
      "image/png": "[encoded data removed]",
      "text/plain": [
       "<Figure size 360x216 with 1 Axes>"
      ]
     },
     "metadata": {
      "needs_background": "light"
     },
     "output_type": "display_data"
    }
   ],
   "source": [
    "plt.figure(figsize=(5,3))\n",
    "plt.plot(np.arange(1,epochs+1), lossv)\n",
    "plt.title('validation loss')\n",
    "\n",
    "plt.figure(figsize=(5,3))\n",
    "plt.plot(np.arange(1,epochs+1), accv)\n",
    "plt.title('validation accuracy')"
   ]
  }
 ],
 "metadata": {
  "kernelspec": {
   "display_name": "Python 3",
   "language": "python",
   "name": "python3"
  },
  "language_info": {
   "codemirror_mode": {
    "name": "ipython",
    "version": 3
   },
   "file_extension": ".py",
   "mimetype": "text/x-python",
   "name": "python",
   "nbconvert_exporter": "python",
   "pygments_lexer": "ipython3",
   "version": "3.8.3"
  }
 },
 "nbformat": 4,
 "nbformat_minor": 4
}
