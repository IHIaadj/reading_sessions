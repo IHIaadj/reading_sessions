{
 "cells": [
  {
   "cell_type": "markdown",
   "metadata": {},
   "source": [
    "## 2nd reading session in the 2022/23 season \n",
    "In this session we have read this paper [Tabular Data: Deep Learning is Not All You Need]( https://arxiv.org/abs/2106.03253)\n",
    "And we have decided to get our hands dirty with the code by training the XGB boost with the used parameters in the paper and the TabNet model that is cited in this paper then Ms.Hajer Benmeziane gaved us a challenge to combine (ensemble) the TabNet model the XGB boost one.In this notebook I have tried to use some Weighted Average Ensemble techniques and compare the results at the end in a table.  <br />\n",
    "**Note : that we have trained both models on the Covertype dataset**\n",
    "### The papers's abstract\n",
    ">  A key element in solving real-life data science problems is selecting the types of models to use.\n",
    "Tree ensemble models (such as XGBoost) are usually recommended for classification and regression\n",
    "problems with tabular data. However, several deep learning models for tabular data have recently been\n",
    "proposed, claiming to outperform XGBoost for some use cases. This paper explores whether these\n",
    "deep models should be a recommended option for tabular data by rigorously comparing the new deep\n",
    "models to XGBoost on various datasets. In addition to systematically comparing their performance,\n",
    "we consider the tuning and computation they require. Our study shows that XGBoost outperforms\n",
    "these deep models across the datasets, including the datasets used in the papers that proposed the\n",
    "deep models. We also demonstrate that XGBoost requires much less tuning. On the positive side, we\n",
    "show that an ensemble of deep models and XGBoost performs better on these datasets than XGBoost\n",
    "alone.\n",
    "\n",
    "\n"
   ]
  },
  {
   "cell_type": "markdown",
   "metadata": {},
   "source": [
    "## Data and packages imports and checking\n"
   ]
  },
  {
   "cell_type": "code",
   "execution_count": 1,
   "metadata": {},
   "outputs": [],
   "source": [
    "import matplotlib.pyplot as plt\n",
    "import seaborn as sns\n",
    "import tabulate\n",
    "\n",
    "import torch\n",
    "\n",
    "from sklearn.preprocessing import LabelEncoder\n",
    "from sklearn.metrics import accuracy_score\n",
    "from sklearn.model_selection import train_test_split\n",
    "\n",
    "import pandas as pd\n",
    "import numpy as np\n",
    "\n",
    "from pytorch_tabnet.tab_model import TabNetClassifier\n",
    "\n",
    "np.random.seed(0)"
   ]
  },
  {
   "cell_type": "code",
   "execution_count": 2,
   "metadata": {},
   "outputs": [],
   "source": [
    "cont_names = [            \n",
    "    \"Elevation\",\n",
    "    \"Aspect\",\n",
    "    \"Slope\",\n",
    "    \"R_Hydrology\",\n",
    "    \"Z_Hydrology\",\n",
    "    \"R_Roadways\",\n",
    "    \"Hillshade_9am\",\n",
    "    \"Hillshade_Noon\",\n",
    "    \"Hillshade_3pm\",\n",
    "    \"R_Fire_Points\",\n",
    "] # Continuous variables\n",
    "\n",
    "cont_dict = {name: np.float64 for name in cont_names}\n",
    "area_names = ['Wilderness_Area' + str(i + 1) for i in range(4)]\n",
    "area_dict = {name: np.int64 for name in area_names}\n",
    "soil_names = ['Soil_Type' + str(i + 1) for i in range(40)]\n",
    "soil_dict = {name: np.int64 for name in soil_names}\n",
    "bin_names = area_names + soil_names\n",
    "\n",
    "target = 'Cover_Type'\n",
    "\n",
    "names = cont_names + bin_names # All column names except target\n",
    "dtypes_dict = {**cont_dict, **area_dict, **soil_dict}"
   ]
  },
  {
   "cell_type": "code",
   "execution_count": 3,
   "metadata": {},
   "outputs": [
    {
     "data": {
      "text/html": [
       "<div>\n",
       "<style scoped>\n",
       "    .dataframe tbody tr th:only-of-type {\n",
       "        vertical-align: middle;\n",
       "    }\n",
       "\n",
       "    .dataframe tbody tr th {\n",
       "        vertical-align: top;\n",
       "    }\n",
       "\n",
       "    .dataframe thead th {\n",
       "        text-align: right;\n",
       "    }\n",
       "</style>\n",
       "<table border=\"1\" class=\"dataframe\">\n",
       "  <thead>\n",
       "    <tr style=\"text-align: right;\">\n",
       "      <th></th>\n",
       "      <th>Elevation</th>\n",
       "      <th>Aspect</th>\n",
       "      <th>Slope</th>\n",
       "      <th>R_Hydrology</th>\n",
       "      <th>Z_Hydrology</th>\n",
       "      <th>R_Roadways</th>\n",
       "      <th>Hillshade_9am</th>\n",
       "      <th>Hillshade_Noon</th>\n",
       "      <th>Hillshade_3pm</th>\n",
       "      <th>R_Fire_Points</th>\n",
       "      <th>...</th>\n",
       "      <th>Soil_Type32</th>\n",
       "      <th>Soil_Type33</th>\n",
       "      <th>Soil_Type34</th>\n",
       "      <th>Soil_Type35</th>\n",
       "      <th>Soil_Type36</th>\n",
       "      <th>Soil_Type37</th>\n",
       "      <th>Soil_Type38</th>\n",
       "      <th>Soil_Type39</th>\n",
       "      <th>Soil_Type40</th>\n",
       "      <th>Cover_Type</th>\n",
       "    </tr>\n",
       "  </thead>\n",
       "  <tbody>\n",
       "    <tr>\n",
       "      <th>0</th>\n",
       "      <td>2596.0</td>\n",
       "      <td>51.0</td>\n",
       "      <td>3.0</td>\n",
       "      <td>258.0</td>\n",
       "      <td>0.0</td>\n",
       "      <td>510.0</td>\n",
       "      <td>221.0</td>\n",
       "      <td>232.0</td>\n",
       "      <td>148.0</td>\n",
       "      <td>6279.0</td>\n",
       "      <td>...</td>\n",
       "      <td>0</td>\n",
       "      <td>0</td>\n",
       "      <td>0</td>\n",
       "      <td>0</td>\n",
       "      <td>0</td>\n",
       "      <td>0</td>\n",
       "      <td>0</td>\n",
       "      <td>0</td>\n",
       "      <td>0</td>\n",
       "      <td>5</td>\n",
       "    </tr>\n",
       "    <tr>\n",
       "      <th>1</th>\n",
       "      <td>2590.0</td>\n",
       "      <td>56.0</td>\n",
       "      <td>2.0</td>\n",
       "      <td>212.0</td>\n",
       "      <td>-6.0</td>\n",
       "      <td>390.0</td>\n",
       "      <td>220.0</td>\n",
       "      <td>235.0</td>\n",
       "      <td>151.0</td>\n",
       "      <td>6225.0</td>\n",
       "      <td>...</td>\n",
       "      <td>0</td>\n",
       "      <td>0</td>\n",
       "      <td>0</td>\n",
       "      <td>0</td>\n",
       "      <td>0</td>\n",
       "      <td>0</td>\n",
       "      <td>0</td>\n",
       "      <td>0</td>\n",
       "      <td>0</td>\n",
       "      <td>5</td>\n",
       "    </tr>\n",
       "    <tr>\n",
       "      <th>2</th>\n",
       "      <td>2804.0</td>\n",
       "      <td>139.0</td>\n",
       "      <td>9.0</td>\n",
       "      <td>268.0</td>\n",
       "      <td>65.0</td>\n",
       "      <td>3180.0</td>\n",
       "      <td>234.0</td>\n",
       "      <td>238.0</td>\n",
       "      <td>135.0</td>\n",
       "      <td>6121.0</td>\n",
       "      <td>...</td>\n",
       "      <td>0</td>\n",
       "      <td>0</td>\n",
       "      <td>0</td>\n",
       "      <td>0</td>\n",
       "      <td>0</td>\n",
       "      <td>0</td>\n",
       "      <td>0</td>\n",
       "      <td>0</td>\n",
       "      <td>0</td>\n",
       "      <td>2</td>\n",
       "    </tr>\n",
       "    <tr>\n",
       "      <th>3</th>\n",
       "      <td>2785.0</td>\n",
       "      <td>155.0</td>\n",
       "      <td>18.0</td>\n",
       "      <td>242.0</td>\n",
       "      <td>118.0</td>\n",
       "      <td>3090.0</td>\n",
       "      <td>238.0</td>\n",
       "      <td>238.0</td>\n",
       "      <td>122.0</td>\n",
       "      <td>6211.0</td>\n",
       "      <td>...</td>\n",
       "      <td>0</td>\n",
       "      <td>0</td>\n",
       "      <td>0</td>\n",
       "      <td>0</td>\n",
       "      <td>0</td>\n",
       "      <td>0</td>\n",
       "      <td>0</td>\n",
       "      <td>0</td>\n",
       "      <td>0</td>\n",
       "      <td>2</td>\n",
       "    </tr>\n",
       "    <tr>\n",
       "      <th>4</th>\n",
       "      <td>2595.0</td>\n",
       "      <td>45.0</td>\n",
       "      <td>2.0</td>\n",
       "      <td>153.0</td>\n",
       "      <td>-1.0</td>\n",
       "      <td>391.0</td>\n",
       "      <td>220.0</td>\n",
       "      <td>234.0</td>\n",
       "      <td>150.0</td>\n",
       "      <td>6172.0</td>\n",
       "      <td>...</td>\n",
       "      <td>0</td>\n",
       "      <td>0</td>\n",
       "      <td>0</td>\n",
       "      <td>0</td>\n",
       "      <td>0</td>\n",
       "      <td>0</td>\n",
       "      <td>0</td>\n",
       "      <td>0</td>\n",
       "      <td>0</td>\n",
       "      <td>5</td>\n",
       "    </tr>\n",
       "  </tbody>\n",
       "</table>\n",
       "<p>5 rows × 55 columns</p>\n",
       "</div>"
      ],
      "text/plain": [
       "   Elevation  Aspect  Slope  R_Hydrology  Z_Hydrology  R_Roadways  \\\n",
       "0     2596.0    51.0    3.0        258.0          0.0       510.0   \n",
       "1     2590.0    56.0    2.0        212.0         -6.0       390.0   \n",
       "2     2804.0   139.0    9.0        268.0         65.0      3180.0   \n",
       "3     2785.0   155.0   18.0        242.0        118.0      3090.0   \n",
       "4     2595.0    45.0    2.0        153.0         -1.0       391.0   \n",
       "\n",
       "   Hillshade_9am  Hillshade_Noon  Hillshade_3pm  R_Fire_Points  ...  \\\n",
       "0          221.0           232.0          148.0         6279.0  ...   \n",
       "1          220.0           235.0          151.0         6225.0  ...   \n",
       "2          234.0           238.0          135.0         6121.0  ...   \n",
       "3          238.0           238.0          122.0         6211.0  ...   \n",
       "4          220.0           234.0          150.0         6172.0  ...   \n",
       "\n",
       "   Soil_Type32  Soil_Type33  Soil_Type34  Soil_Type35  Soil_Type36  \\\n",
       "0            0            0            0            0            0   \n",
       "1            0            0            0            0            0   \n",
       "2            0            0            0            0            0   \n",
       "3            0            0            0            0            0   \n",
       "4            0            0            0            0            0   \n",
       "\n",
       "   Soil_Type37  Soil_Type38  Soil_Type39  Soil_Type40  Cover_Type  \n",
       "0            0            0            0            0           5  \n",
       "1            0            0            0            0           5  \n",
       "2            0            0            0            0           2  \n",
       "3            0            0            0            0           2  \n",
       "4            0            0            0            0           5  \n",
       "\n",
       "[5 rows x 55 columns]"
      ]
     },
     "execution_count": 3,
     "metadata": {},
     "output_type": "execute_result"
    }
   ],
   "source": [
    "data = pd.read_csv('covtype.data', header=None, names=names + [target], dtype=dtypes_dict)\n",
    "data.head()"
   ]
  },
  {
   "cell_type": "code",
   "execution_count": 4,
   "metadata": {},
   "outputs": [
    {
     "name": "stdout",
     "output_type": "stream",
     "text": [
      "<class 'pandas.core.frame.DataFrame'>\n",
      "RangeIndex: 581012 entries, 0 to 581011\n",
      "Data columns (total 55 columns):\n",
      " #   Column            Non-Null Count   Dtype  \n",
      "---  ------            --------------   -----  \n",
      " 0   Elevation         581012 non-null  float64\n",
      " 1   Aspect            581012 non-null  float64\n",
      " 2   Slope             581012 non-null  float64\n",
      " 3   R_Hydrology       581012 non-null  float64\n",
      " 4   Z_Hydrology       581012 non-null  float64\n",
      " 5   R_Roadways        581012 non-null  float64\n",
      " 6   Hillshade_9am     581012 non-null  float64\n",
      " 7   Hillshade_Noon    581012 non-null  float64\n",
      " 8   Hillshade_3pm     581012 non-null  float64\n",
      " 9   R_Fire_Points     581012 non-null  float64\n",
      " 10  Wilderness_Area1  581012 non-null  int64  \n",
      " 11  Wilderness_Area2  581012 non-null  int64  \n",
      " 12  Wilderness_Area3  581012 non-null  int64  \n",
      " 13  Wilderness_Area4  581012 non-null  int64  \n",
      " 14  Soil_Type1        581012 non-null  int64  \n",
      " 15  Soil_Type2        581012 non-null  int64  \n",
      " 16  Soil_Type3        581012 non-null  int64  \n",
      " 17  Soil_Type4        581012 non-null  int64  \n",
      " 18  Soil_Type5        581012 non-null  int64  \n",
      " 19  Soil_Type6        581012 non-null  int64  \n",
      " 20  Soil_Type7        581012 non-null  int64  \n",
      " 21  Soil_Type8        581012 non-null  int64  \n",
      " 22  Soil_Type9        581012 non-null  int64  \n",
      " 23  Soil_Type10       581012 non-null  int64  \n",
      " 24  Soil_Type11       581012 non-null  int64  \n",
      " 25  Soil_Type12       581012 non-null  int64  \n",
      " 26  Soil_Type13       581012 non-null  int64  \n",
      " 27  Soil_Type14       581012 non-null  int64  \n",
      " 28  Soil_Type15       581012 non-null  int64  \n",
      " 29  Soil_Type16       581012 non-null  int64  \n",
      " 30  Soil_Type17       581012 non-null  int64  \n",
      " 31  Soil_Type18       581012 non-null  int64  \n",
      " 32  Soil_Type19       581012 non-null  int64  \n",
      " 33  Soil_Type20       581012 non-null  int64  \n",
      " 34  Soil_Type21       581012 non-null  int64  \n",
      " 35  Soil_Type22       581012 non-null  int64  \n",
      " 36  Soil_Type23       581012 non-null  int64  \n",
      " 37  Soil_Type24       581012 non-null  int64  \n",
      " 38  Soil_Type25       581012 non-null  int64  \n",
      " 39  Soil_Type26       581012 non-null  int64  \n",
      " 40  Soil_Type27       581012 non-null  int64  \n",
      " 41  Soil_Type28       581012 non-null  int64  \n",
      " 42  Soil_Type29       581012 non-null  int64  \n",
      " 43  Soil_Type30       581012 non-null  int64  \n",
      " 44  Soil_Type31       581012 non-null  int64  \n",
      " 45  Soil_Type32       581012 non-null  int64  \n",
      " 46  Soil_Type33       581012 non-null  int64  \n",
      " 47  Soil_Type34       581012 non-null  int64  \n",
      " 48  Soil_Type35       581012 non-null  int64  \n",
      " 49  Soil_Type36       581012 non-null  int64  \n",
      " 50  Soil_Type37       581012 non-null  int64  \n",
      " 51  Soil_Type38       581012 non-null  int64  \n",
      " 52  Soil_Type39       581012 non-null  int64  \n",
      " 53  Soil_Type40       581012 non-null  int64  \n",
      " 54  Cover_Type        581012 non-null  int64  \n",
      "dtypes: float64(10), int64(45)\n",
      "memory usage: 243.8 MB\n"
     ]
    }
   ],
   "source": [
    "data.info()"
   ]
  },
  {
   "cell_type": "code",
   "execution_count": 5,
   "metadata": {},
   "outputs": [
    {
     "name": "stdout",
     "output_type": "stream",
     "text": [
      "data shape : (581012, 55)\n"
     ]
    }
   ],
   "source": [
    "print('data shape :', data.shape)"
   ]
  },
  {
   "cell_type": "code",
   "execution_count": 6,
   "metadata": {},
   "outputs": [],
   "source": [
    "n_total = len(data)\n",
    "\n",
    "train_val_indices, test_indices = train_test_split(\n",
    "    range(n_total), test_size=0.2, random_state=0)\n",
    "train_indices, valid_indices = train_test_split(\n",
    "    train_val_indices, test_size=0.2 / 0.6, random_state=0)"
   ]
  },
  {
   "cell_type": "code",
   "execution_count": 7,
   "metadata": {},
   "outputs": [],
   "source": [
    "categorical_columns = []\n",
    "categorical_dims =  {}\n",
    "for col in data.columns[data.dtypes == object]:\n",
    "    print(col, data[col].nunique())\n",
    "    l_enc = LabelEncoder()\n",
    "    data[col] = data[col].fillna(\"VV_likely\")\n",
    "    data[col] = l_enc.fit_transform(data[col].values)\n",
    "    categorical_columns.append(col)\n",
    "    categorical_dims[col] = len(l_enc.classes_)\n",
    "\n",
    "for col in data.columns[data.dtypes == 'float64']:\n",
    "    data.fillna(data.loc[train_indices, col].mean(), inplace=True)"
   ]
  },
  {
   "cell_type": "code",
   "execution_count": 8,
   "metadata": {},
   "outputs": [],
   "source": [
    "unused_feat = []\n",
    "\n",
    "features = [ col for col in data.columns if col not in unused_feat+[target]] \n",
    "\n",
    "cat_idxs = [ i for i, f in enumerate(features) if f in categorical_columns]\n",
    "\n",
    "cat_dims = [ categorical_dims[f] for i, f in enumerate(features) if f in categorical_columns]"
   ]
  },
  {
   "cell_type": "markdown",
   "metadata": {},
   "source": [
    "## TabNet"
   ]
  },
  {
   "cell_type": "code",
   "execution_count": 9,
   "metadata": {},
   "outputs": [
    {
     "name": "stderr",
     "output_type": "stream",
     "text": [
      "C:\\Users\\MON PC\\AppData\\Roaming\\Python\\Python310\\site-packages\\pytorch_tabnet\\abstract_model.py:75: UserWarning: Device used : cuda\n",
      "  warnings.warn(f\"Device used : {self.device}\")\n"
     ]
    }
   ],
   "source": [
    "model = TabNetClassifier(\n",
    "    n_d=64, n_a=64, n_steps=5,\n",
    "    gamma=1.5, n_independent=2, n_shared=2,\n",
    "    cat_idxs=cat_idxs,\n",
    "    cat_dims=cat_dims,\n",
    "    cat_emb_dim=1,\n",
    "    lambda_sparse=1e-4, momentum=0.3, clip_value=2.,\n",
    "    optimizer_fn=torch.optim.Adam,\n",
    "    optimizer_params=dict(lr=2e-2),\n",
    "    scheduler_fn=None , epsilon=1e-15\n",
    ")"
   ]
  },
  {
   "cell_type": "code",
   "execution_count": 10,
   "metadata": {},
   "outputs": [],
   "source": [
    "import os \n",
    "if os.getenv(\"CI\", False):\n",
    "    print(\"here\")\n",
    "# Take only a subsample to run CI\n",
    "    X_train = data[features].values[train_indices][:1000,:]\n",
    "    y_train = data[target].values[train_indices][:1000]\n",
    "else:\n",
    "    X_train = data[features].values[train_indices]\n",
    "    y_train = data[target].values[train_indices]\n",
    "\n",
    "X_valid = data[features].values[valid_indices]\n",
    "y_valid = data[target].values[valid_indices]\n",
    "\n",
    "X_test = data[features].values[test_indices]\n",
    "y_test = data[target].values[test_indices]"
   ]
  },
  {
   "cell_type": "code",
   "execution_count": 11,
   "metadata": {},
   "outputs": [],
   "source": [
    "max_epochs = 50 if not os.getenv(\"CI\", False) else 2"
   ]
  },
  {
   "cell_type": "code",
   "execution_count": 12,
   "metadata": {},
   "outputs": [
    {
     "name": "stdout",
     "output_type": "stream",
     "text": [
      "epoch 0  | loss: 1.22774 | train_accuracy: 0.05808 | valid_accuracy: 0.05714 |  0:00:34s\n",
      "epoch 1  | loss: 0.78388 | train_accuracy: 0.03543 | valid_accuracy: 0.0354  |  0:01:05s\n",
      "epoch 2  | loss: 0.73506 | train_accuracy: 0.0357  | valid_accuracy: 0.03559 |  0:01:37s\n",
      "epoch 3  | loss: 0.71173 | train_accuracy: 0.03585 | valid_accuracy: 0.03566 |  0:02:07s\n",
      "epoch 4  | loss: 0.69748 | train_accuracy: 0.03561 | valid_accuracy: 0.0355  |  0:02:35s\n",
      "epoch 5  | loss: 0.68411 | train_accuracy: 0.0356  | valid_accuracy: 0.0355  |  0:03:05s\n",
      "epoch 6  | loss: 0.67533 | train_accuracy: 0.12261 | valid_accuracy: 0.12381 |  0:03:34s\n",
      "epoch 7  | loss: 0.66557 | train_accuracy: 0.0635  | valid_accuracy: 0.06441 |  0:04:04s\n",
      "epoch 8  | loss: 0.65848 | train_accuracy: 0.08809 | valid_accuracy: 0.08809 |  0:04:34s\n",
      "epoch 9  | loss: 0.65074 | train_accuracy: 0.11824 | valid_accuracy: 0.11732 |  0:05:03s\n",
      "epoch 10 | loss: 0.64568 | train_accuracy: 0.20514 | valid_accuracy: 0.20543 |  0:05:33s\n",
      "epoch 11 | loss: 0.6487  | train_accuracy: 0.31186 | valid_accuracy: 0.31337 |  0:06:04s\n",
      "epoch 12 | loss: 0.64459 | train_accuracy: 0.41126 | valid_accuracy: 0.41105 |  0:06:32s\n",
      "epoch 13 | loss: 0.63493 | train_accuracy: 0.50328 | valid_accuracy: 0.50313 |  0:07:01s\n",
      "epoch 14 | loss: 0.62674 | train_accuracy: 0.5622  | valid_accuracy: 0.56134 |  0:07:29s\n",
      "epoch 15 | loss: 0.62497 | train_accuracy: 0.60859 | valid_accuracy: 0.60754 |  0:07:58s\n",
      "epoch 16 | loss: 0.6138  | train_accuracy: 0.66882 | valid_accuracy: 0.66682 |  0:08:27s\n",
      "epoch 17 | loss: 0.60691 | train_accuracy: 0.6789  | valid_accuracy: 0.67693 |  0:08:56s\n",
      "epoch 18 | loss: 0.60304 | train_accuracy: 0.70334 | valid_accuracy: 0.70176 |  0:09:25s\n",
      "epoch 19 | loss: 0.59642 | train_accuracy: 0.71004 | valid_accuracy: 0.70751 |  0:09:53s\n",
      "epoch 20 | loss: 0.59421 | train_accuracy: 0.73463 | valid_accuracy: 0.73111 |  0:10:22s\n",
      "epoch 21 | loss: 0.58394 | train_accuracy: 0.74142 | valid_accuracy: 0.73849 |  0:10:52s\n",
      "epoch 22 | loss: 0.58019 | train_accuracy: 0.74897 | valid_accuracy: 0.74723 |  0:11:21s\n",
      "epoch 23 | loss: 0.58674 | train_accuracy: 0.76186 | valid_accuracy: 0.75958 |  0:11:50s\n",
      "epoch 24 | loss: 0.5739  | train_accuracy: 0.77805 | valid_accuracy: 0.77492 |  0:12:18s\n",
      "epoch 25 | loss: 0.56883 | train_accuracy: 0.77476 | valid_accuracy: 0.77177 |  0:12:48s\n",
      "epoch 26 | loss: 0.56244 | train_accuracy: 0.78495 | valid_accuracy: 0.78254 |  0:13:18s\n",
      "epoch 27 | loss: 0.55281 | train_accuracy: 0.78796 | valid_accuracy: 0.7862  |  0:13:48s\n",
      "epoch 28 | loss: 0.55122 | train_accuracy: 0.79    | valid_accuracy: 0.78737 |  0:14:16s\n",
      "epoch 29 | loss: 0.55526 | train_accuracy: 0.79127 | valid_accuracy: 0.7882  |  0:14:45s\n",
      "epoch 30 | loss: 0.54734 | train_accuracy: 0.79381 | valid_accuracy: 0.7913  |  0:15:14s\n",
      "epoch 31 | loss: 0.53655 | train_accuracy: 0.79911 | valid_accuracy: 0.79638 |  0:15:44s\n",
      "epoch 32 | loss: 0.53442 | train_accuracy: 0.79906 | valid_accuracy: 0.79557 |  0:16:13s\n",
      "epoch 33 | loss: 0.53004 | train_accuracy: 0.80706 | valid_accuracy: 0.80502 |  0:16:42s\n",
      "epoch 34 | loss: 0.52312 | train_accuracy: 0.80412 | valid_accuracy: 0.80139 |  0:17:11s\n",
      "epoch 35 | loss: 0.52096 | train_accuracy: 0.81139 | valid_accuracy: 0.80715 |  0:17:41s\n",
      "epoch 36 | loss: 0.5121  | train_accuracy: 0.81126 | valid_accuracy: 0.80738 |  0:18:10s\n",
      "epoch 37 | loss: 0.5076  | train_accuracy: 0.80961 | valid_accuracy: 0.80527 |  0:18:39s\n",
      "epoch 38 | loss: 0.51198 | train_accuracy: 0.80848 | valid_accuracy: 0.80519 |  0:19:09s\n",
      "epoch 39 | loss: 0.50782 | train_accuracy: 0.81159 | valid_accuracy: 0.80757 |  0:19:44s\n",
      "epoch 40 | loss: 0.50502 | train_accuracy: 0.81615 | valid_accuracy: 0.81302 |  0:20:23s\n",
      "epoch 41 | loss: 0.49741 | train_accuracy: 0.82163 | valid_accuracy: 0.81757 |  0:21:03s\n",
      "epoch 42 | loss: 0.48999 | train_accuracy: 0.82395 | valid_accuracy: 0.82016 |  0:21:42s\n",
      "epoch 43 | loss: 0.48675 | train_accuracy: 0.82289 | valid_accuracy: 0.81867 |  0:22:22s\n",
      "epoch 44 | loss: 0.48541 | train_accuracy: 0.82923 | valid_accuracy: 0.82501 |  0:23:00s\n",
      "epoch 45 | loss: 0.48419 | train_accuracy: 0.82934 | valid_accuracy: 0.82548 |  0:23:39s\n",
      "epoch 46 | loss: 0.4731  | train_accuracy: 0.83203 | valid_accuracy: 0.82807 |  0:24:17s\n",
      "epoch 47 | loss: 0.46719 | train_accuracy: 0.83505 | valid_accuracy: 0.83038 |  0:24:56s\n",
      "epoch 48 | loss: 0.46405 | train_accuracy: 0.83569 | valid_accuracy: 0.83122 |  0:25:13s\n",
      "epoch 49 | loss: 0.45886 | train_accuracy: 0.84215 | valid_accuracy: 0.83726 |  0:25:27s\n",
      "Stop training because you reached max_epochs = 50 with best_epoch = 49 and best_valid_accuracy = 0.83726\n"
     ]
    },
    {
     "name": "stderr",
     "output_type": "stream",
     "text": [
      "C:\\Users\\MON PC\\AppData\\Roaming\\Python\\Python310\\site-packages\\pytorch_tabnet\\callbacks.py:172: UserWarning: Best weights from best epoch are automatically used!\n",
      "  warnings.warn(wrn_msg)\n"
     ]
    }
   ],
   "source": [
    "from pytorch_tabnet.augmentations import ClassificationSMOTE\n",
    "aug = ClassificationSMOTE(p=0.2)\n",
    "\n",
    "model.fit(\n",
    "    X_train=X_train, y_train=y_train,\n",
    "    eval_set=[(X_train, y_train), (X_valid, y_valid)],\n",
    "    eval_name=['train', 'valid'],\n",
    "    max_epochs=max_epochs, patience=100,\n",
    "    batch_size=16384, virtual_batch_size=256,\n",
    "    augmentations=aug\n",
    ") "
   ]
  },
  {
   "cell_type": "code",
   "execution_count": 13,
   "metadata": {},
   "outputs": [
    {
     "data": {
      "text/plain": [
       "[<matplotlib.lines.Line2D at 0x233957dd450>]"
      ]
     },
     "execution_count": 13,
     "metadata": {},
     "output_type": "execute_result"
    },
    {
     "data": {
      "image/png": "[encoded data removed]",
      "text/plain": [
       "<Figure size 432x288 with 1 Axes>"
      ]
     },
     "metadata": {
      "needs_background": "light"
     },
     "output_type": "display_data"
    }
   ],
   "source": [
    "# plot losses\n",
    "plt.plot(model.history['loss'])"
   ]
  },
  {
   "cell_type": "code",
   "execution_count": 14,
   "metadata": {},
   "outputs": [
    {
     "data": {
      "text/plain": [
       "[<matplotlib.lines.Line2D at 0x2339579a9b0>]"
      ]
     },
     "execution_count": 14,
     "metadata": {},
     "output_type": "execute_result"
    },
    {
     "data": {
      "image/png": "[encoded data removed]",
      "text/plain": [
       "<Figure size 432x288 with 1 Axes>"
      ]
     },
     "metadata": {
      "needs_background": "light"
     },
     "output_type": "display_data"
    }
   ],
   "source": [
    "# plot accuracy\n",
    "plt.plot(model.history['train_accuracy'])\n",
    "plt.plot(model.history['valid_accuracy'])"
   ]
  },
  {
   "cell_type": "code",
   "execution_count": 26,
   "metadata": {},
   "outputs": [
    {
     "name": "stdout",
     "output_type": "stream",
     "text": [
      "BEST VALID SCORE FOR : 0.8372628874962081\n",
      "FINAL TEST SCORE FOR : 0.8396426942505787\n",
      "TABNET LOSS : 0.38437015447779066\n"
     ]
    }
   ],
   "source": [
    "from sklearn.metrics import log_loss\n",
    "preds_mapper = { idx : class_name for idx, class_name in enumerate(model.classes_)}\n",
    "\n",
    "preds_tabnet = model.predict_proba(X_test)\n",
    "\n",
    "#y_pred_tabnet = np.vectorize(preds_mapper.get)(np.argmax(preds_tabnet, axis=1))\n",
    "y_pred = np.argmax(preds_tabnet, axis=1)\n",
    "test_acc = accuracy_score(y_pred=y_pred, y_true=y_test)\n",
    "tab_loss = log_loss(y_test, preds_tabnet)\n",
    "print(f\"BEST VALID SCORE FOR : {model.best_cost}\")\n",
    "print(f\"FINAL TEST SCORE FOR : {test_acc}\")\n",
    "print(f\"TABNET LOSS : {tab_loss}\")\n"
   ]
  },
  {
   "cell_type": "markdown",
   "metadata": {},
   "source": [
    "## XGBoost\n"
   ]
  },
  {
   "cell_type": "code",
   "execution_count": 16,
   "metadata": {},
   "outputs": [],
   "source": [
    "from sklearn.preprocessing import LabelEncoder\n",
    "le = LabelEncoder()\n",
    "y_train = le.fit_transform(y_train)\n",
    "y_valid = le.fit_transform(y_valid)\n",
    "y_test = le.fit_transform(y_test)"
   ]
  },
  {
   "cell_type": "code",
   "execution_count": null,
   "metadata": {},
   "outputs": [],
   "source": [
    "from xgboost import XGBClassifier\n",
    "from hyperopt import STATUS_OK, Trials, fmin, hp, tpe,Trials\n",
    "\n",
    "def score(params):\n",
    "    print(\"Training with params: \")\n",
    "    print(params)\n",
    "    num_round = int(params['n_estimators'])\n",
    "    del params['n_estimators']\n",
    "    xgb  = XGBClassifier(params)\n",
    "    xgb.fit(X_train, \n",
    "            y_train, \n",
    "            early_stopping_rounds=5, \n",
    "            eval_set=[(X_train, y_train), (X_valid, y_valid), (X_test, y_test)])\n",
    "            \n",
    "    results = xgb.evals_result()\n",
    "    proba = xgb.predict_proba(X_test)\n",
    "    accuracy_ = accuracy_score(y_pred=np.argmax(proba,axis=1), y_true=y_test)\n",
    "    score = results['validation_2']['mlogloss'][-1]\n",
    "    \n",
    "    print(\"\\tScore {0}\\n\\n\".format(score))\n",
    "    return {'loss': score, 'status': STATUS_OK,\"accuracy\" : accuracy_}\n",
    "random_state = 0\n",
    "space = {\n",
    "        'n_estimators': hp.uniform('n_estimators', 100, 4000),\n",
    "        'eta': hp.loguniform('eta', 1e-7, 1),\n",
    "\n",
    "        'max_depth':  hp.quniform('max_depth', 1,10,1),\n",
    "        'min_child_weight': hp.loguniform('min_child_weight', 1e-16, 1e5),\n",
    "        'subsample': hp.uniform('subsample', 0.2, 1),\n",
    "        'gamma': hp.choice('gamma', [0, hp.loguniform('gamma_', 1e-16, 1e2) ]),\n",
    "        'colsample_bytree': hp.uniform('colsample_bytree', 0.2, 1),\n",
    "        'colsample_bylevel': hp.uniform('colsample_bylevel', 0.2, 1),\n",
    "        'alpha': hp.choice('alpha', [0, hp.loguniform('alpha_', 1e-16, 1e2) ]),\n",
    "        'lambda': hp.choice('lamda', [0, hp.loguniform('lambda_',1e-16, 1e2) ]),\n",
    "        'seed': random_state\n",
    "    }\n",
    "trials = Trials()\n",
    "# Use the fmin function from Hyperopt to find the best hyperparameters\n",
    "best = fmin(score, space, algo=tpe.suggest, \n",
    "                trials=trials, \n",
    "                max_evals=10)\n",
    "print(\"The best hyperparameters are: \", \"\\n\")\n",
    "print(best)\n",
    "# train with the best parameters\n",
    "xgb  = XGBClassifier(best)\n",
    "xgb.fit(X_train, \n",
    "            y_train, \n",
    "            early_stopping_rounds=5, \n",
    "            eval_set=[(X_train, y_train), (X_valid, y_valid), (X_test, y_test)])"
   ]
  },
  {
   "cell_type": "code",
   "execution_count": 18,
   "metadata": {},
   "outputs": [
    {
     "name": "stdout",
     "output_type": "stream",
     "text": [
      "XGB accuracy :  0.8699775393062141\n",
      "XGB loss :  0.32675059816777635\n"
     ]
    }
   ],
   "source": [
    "#XGBoost loss & accuracy\n",
    "XGB_accuracy = [t[\"result\"][\"accuracy\"] for t in trials][-1]\n",
    "XGB_loss = [t[\"result\"][\"loss\"] for t in trials][-1]\n",
    "print(f\"XGB accuracy :  {XGB_accuracy}\")\n",
    "print(f\"XGB loss :  {XGB_loss}\")"
   ]
  },
  {
   "cell_type": "markdown",
   "metadata": {},
   "source": [
    "## Challenge : Combining the XGB boost and the TabNet (The ensemble)"
   ]
  },
  {
   "cell_type": "markdown",
   "metadata": {},
   "source": [
    "\n",
    "##### prediction probabilities\n"
   ]
  },
  {
   "cell_type": "code",
   "execution_count": 19,
   "metadata": {},
   "outputs": [],
   "source": [
    "#get the XGB predictions\n",
    "pred_XGB = xgb.predict_proba(X_test)\n",
    "#get the TabNet predictions\n",
    "pred_TabNet = model.predict_proba(X_test)"
   ]
  },
  {
   "cell_type": "markdown",
   "metadata": {},
   "source": [
    "##### Weighted by 1/2 (the mean of the predictions)\n",
    "$$\n",
    "Predictions = Argmax(\\frac{1}{2} × TabNet\\_Test\\_predictions + \\frac{1}{2} × XGB\\_test\\_Predictions) = Argmax(mean(TabNet\\_Test\\_predictions ,XGB\\_test\\_Predictions))\n",
    "$$"
   ]
  },
  {
   "cell_type": "code",
   "execution_count": 27,
   "metadata": {},
   "outputs": [
    {
     "data": {
      "text/plain": [
       "0.8710532430315913"
      ]
     },
     "execution_count": 27,
     "metadata": {},
     "output_type": "execute_result"
    }
   ],
   "source": [
    "weighted = (pred_XGB + pred_TabNet) / 2\n",
    "weighted_acuracy0 = accuracy_score(y_pred=np.argmax(weighted,axis=1), y_true=y_test)\n",
    "weighted_acuracy0"
   ]
  },
  {
   "cell_type": "markdown",
   "metadata": {},
   "source": [
    "##### Weighted by the negative of the loss\n",
    "$$\n",
    "Predictions = Argmax(\\frac{-TabNet\\_Test\\_Loss × TabNet\\_Test\\_predictions + -XGB\\_test\\_Loss × XGB\\_test\\_Predictions}{-(TabNet\\_Test\\_Loss + XGB\\_test\\_Loss)})\n",
    "$$"
   ]
  },
  {
   "cell_type": "code",
   "execution_count": 28,
   "metadata": {},
   "outputs": [
    {
     "data": {
      "text/plain": [
       "0.8690137087682762"
      ]
     },
     "execution_count": 28,
     "metadata": {},
     "output_type": "execute_result"
    }
   ],
   "source": [
    "weighted = ((-XGB_loss * pred_XGB) + (-tab_loss * pred_TabNet)) / (-tab_loss -XGB_loss)\n",
    "weighted_acuracy1 = accuracy_score(y_pred=np.argmax(weighted,axis=1), y_true=y_test)\n",
    "weighted_acuracy1"
   ]
  },
  {
   "cell_type": "markdown",
   "metadata": {},
   "source": [
    "##### Weighted by the accuracy\n",
    "$$\n",
    "Predictions = Argmax(\\frac{TabNet\\_test\\_accuracy × TabNet\\_Test\\_predictions + XGB\\_test\\_accuracy × XGB\\_test\\_Predictions}{TabNet\\_Test\\_Accuracy + XGB\\_test\\_accuracy})\n",
    "$$"
   ]
  },
  {
   "cell_type": "code",
   "execution_count": 29,
   "metadata": {},
   "outputs": [
    {
     "data": {
      "text/plain": [
       "0.8715093414111512"
      ]
     },
     "execution_count": 29,
     "metadata": {},
     "output_type": "execute_result"
    }
   ],
   "source": [
    "weighted = ((XGB_accuracy * pred_XGB) + (test_acc * pred_TabNet)) / (tab_loss + XGB_loss)\n",
    "weighted_acuracy2 = accuracy_score(y_pred=np.argmax(weighted,axis=1), y_true=y_test)\n",
    "weighted_acuracy2"
   ]
  },
  {
   "cell_type": "markdown",
   "metadata": {},
   "source": [
    "##### Weighted by the loss inverse\n",
    "$$\n",
    "Predictions = Argmax(\\frac{\\frac{1}{TabNet\\_Test\\_Loss} × TabNet\\_Test\\_predictions + \\frac{1}{XGB\\_test\\_Loss} × XGB\\_test\\_Predictions}{\\frac{1}{TabNet\\_Test\\_Loss} + \\frac{1}{XGB\\_test\\_Loss}})\n",
    "$$"
   ]
  },
  {
   "cell_type": "code",
   "execution_count": 30,
   "metadata": {},
   "outputs": [
    {
     "data": {
      "text/plain": [
       "0.8727657633623916"
      ]
     },
     "execution_count": 30,
     "metadata": {},
     "output_type": "execute_result"
    }
   ],
   "source": [
    "weighted = (((1/XGB_loss) * pred_XGB) + ((1/tab_loss) * pred_TabNet)) / ((1/XGB_loss) + (1/tab_loss))\n",
    "weighted_acuracy3 = accuracy_score(y_pred=np.argmax(weighted,axis=1), y_true=y_test)\n",
    "weighted_acuracy3"
   ]
  },
  {
   "cell_type": "markdown",
   "metadata": {},
   "source": [
    "##### Weighted by the loss & the accuracy\n",
    "$$\n",
    "Predictions = Argmax(\\frac{(-TabNet\\_test\\_loss + TabNet\\_test\\_accuracy ) × TabNet\\_Test\\_predictions +(-XGB\\_test\\_loss + XGB\\_test\\_accuracy) × XGB\\_test\\_Predictions}{(-XGB\\_test\\_loss + XGB\\_test\\_accuracy) + (-TabNet\\_test\\_loss + TabNet\\_test\\_accuracy )})\n",
    "$$"
   ]
  },
  {
   "cell_type": "code",
   "execution_count": 31,
   "metadata": {},
   "outputs": [
    {
     "data": {
      "text/plain": [
       "0.8728776365498309"
      ]
     },
     "execution_count": 31,
     "metadata": {},
     "output_type": "execute_result"
    }
   ],
   "source": [
    "weighted = (((-XGB_loss+XGB_accuracy) * pred_XGB) + ((-tab_loss + test_acc) * pred_TabNet)) / (-tab_loss + test_acc  - XGB_loss + XGB_accuracy )\n",
    "weighted_acuracy4 = accuracy_score(y_pred=np.argmax(weighted,axis=1), y_true=y_test)\n",
    "weighted_acuracy4"
   ]
  },
  {
   "cell_type": "code",
   "execution_count": 37,
   "metadata": {},
   "outputs": [
    {
     "name": "stdout",
     "output_type": "stream",
     "text": [
      "╒═══════════════════════════════════════════════╤═══════════════╤═════════════════════╕\n",
      "│ model                                         │ accuracy      │ loss                │\n",
      "╞═══════════════════════════════════════════════╪═══════════════╪═════════════════════╡\n",
      "│ TabNet                                        │ 0.8396        │ 0.38437015447779066 │\n",
      "├───────────────────────────────────────────────┼───────────────┼─────────────────────┤\n",
      "│ XGB boost                                     │ 0.87          │ 0.32675059816777635 │\n",
      "├───────────────────────────────────────────────┼───────────────┼─────────────────────┤\n",
      "│ ensemble weighted by accuracy                 │ 0.8715        │ //                  │\n",
      "├───────────────────────────────────────────────┼───────────────┼─────────────────────┤\n",
      "│ ensemble weighted by 1/2 (mean)               │ 0.8711        │ //                  │\n",
      "├───────────────────────────────────────────────┼───────────────┼─────────────────────┤\n",
      "│ ensemble weighted by the negative of the loss │ 0.869         │ //                  │\n",
      "├───────────────────────────────────────────────┼───────────────┼─────────────────────┤\n",
      "│ ensemble weighted by the loss inverse         │ 0.8728        │ //                  │\n",
      "├───────────────────────────────────────────────┼───────────────┼─────────────────────┤\n",
      "│ ensemble weighted by the loss & accuracy      │ 0.8729 (best) │ //                  │\n",
      "╘═══════════════════════════════════════════════╧═══════════════╧═════════════════════╛\n"
     ]
    }
   ],
   "source": [
    "table = [\n",
    "    [\"model\",\"accuracy\",\"loss\"],\n",
    "    [\"TabNet\",round(test_acc,4),tab_loss],\n",
    "    [\"XGB boost\",round(XGB_accuracy,4),XGB_loss],\n",
    "    [\"ensemble weighted by accuracy\",round(weighted_acuracy2,4),\"//\"],\n",
    "    [\"ensemble weighted by 1/2 (mean)\",round(weighted_acuracy0,4),\"//\"],\n",
    "    [\"ensemble weighted by the negative of the loss\",str(round(weighted_acuracy1,4)),\"//\"],\n",
    "    [\"ensemble weighted by the loss inverse\",str(round(weighted_acuracy3,4)),\"//\"],\n",
    "    [\"ensemble weighted by the loss & accuracy\",str(round(weighted_acuracy4,4)) + \" (best)\",\"//\"],\n",
    "]\n",
    "print(tabulate.tabulate(table, headers='firstrow', tablefmt='fancy_grid'))"
   ]
  }
 ],
 "metadata": {
  "kernelspec": {
   "display_name": "Python 3.10.4 64-bit",
   "language": "python",
   "name": "python3"
  },
  "language_info": {
   "codemirror_mode": {
    "name": "ipython",
    "version": 3
   },
   "file_extension": ".py",
   "mimetype": "text/x-python",
   "name": "python",
   "nbconvert_exporter": "python",
   "pygments_lexer": "ipython3",
   "version": "3.10.4"
  },
  "orig_nbformat": 4,
  "vscode": {
   "interpreter": {
    "hash": "26de051ba29f2982a8de78e945f0abaf191376122a1563185a90213a26c5da77"
   }
  }
 },
 "nbformat": 4,
 "nbformat_minor": 2
}
